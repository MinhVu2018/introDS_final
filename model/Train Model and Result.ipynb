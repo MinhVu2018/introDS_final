{
 "cells": [
  {
   "cell_type": "code",
   "execution_count": 1,
   "id": "a53ba83d",
   "metadata": {},
   "outputs": [],
   "source": [
    "import matplotlib.pyplot as plt\n",
    "import seaborn as sns # seaborn là thư viện được xây trên matplotlib, \n",
    "                      # giúp việc visualization đỡ khổ hơn\n",
    "import pandas as pd\n",
    "import numpy as np\n",
    "pd.set_option(\"max_columns\", None) # all df cols\n",
    "\n",
    "from sklearn.model_selection import train_test_split, GridSearchCV, StratifiedKFold, RandomizedSearchCV\n",
    "from sklearn.ensemble import RandomForestClassifier\n",
    "from sklearn.linear_model import LogisticRegression\n",
    "from sklearn.preprocessing import FunctionTransformer, StandardScaler\n",
    "from sklearn.base import BaseEstimator, TransformerMixin\n",
    "from sklearn.pipeline import Pipeline, make_pipeline\n",
    "from sklearn.neural_network import MLPClassifier\n",
    "from sklearn import set_config\n",
    "set_config(display='diagram') # Để trực quan hóa pipeline"
   ]
  },
  {
   "cell_type": "markdown",
   "id": "a8e2ee02",
   "metadata": {},
   "source": [
    "Description"
   ]
  },
  {
   "cell_type": "code",
   "execution_count": 2,
   "id": "06e10554",
   "metadata": {
    "scrolled": true
   },
   "outputs": [
    {
     "name": "stdout",
     "output_type": "stream",
     "text": [
      "Date : Date\n",
      "H_Rk : Home Rank\n",
      "H_Team : Home Team\n",
      "H_G : Home Games\n",
      "H_MP : Home Minutes Played\n",
      "H_FG : Home Field Goals\n",
      "H_FGA : Home Field Goal Attempts\n",
      "H_FG% : Home Field Goal Percentage\n",
      "H_3P : Home 3-Point Field Goals\n",
      "H_3PA : Home 3-Point Field Goal Attempts\n",
      "H_3P% : Home 3-Point Field Goal Percentage\n",
      "H_2P : Home 2-Point Field Goals\n",
      "H_2PA : Home 2-point Field Goal Attempts\n",
      "H_2P% : Home 2-Point Field Goal Percentage\n",
      "H_FT : Home Free Throws\n",
      "H_FTA : Home Free Throw Attempts\n",
      "H_FT% : Home Free Throw Percentage\n",
      "H_ORB : Home Offensive Rebounds\n",
      "H_DRB : Home Defensive Rebounds\n",
      "H_TRB : Home Total Rebounds\n",
      "H_AST : Home Assists\n",
      "H_STL : Home Steals\n",
      "H_BLK : Home Blocks\n",
      "H_TOV : Home Turnovers\n",
      "H_PF : Home Personal Fouls\n",
      "H_PTS : Home Points\n",
      "A_Rk : Away Rank\n",
      "A_Team : Away Team\n",
      "A_G : Away Games\n",
      "A_MP : Away Minutes Played\n",
      "A_FG : Away Field Goals\n",
      "A_FGA : Away Field Goal Attempts\n",
      "A_FG% : Away Field Goal Percentage\n",
      "A_3P : Away 3-Point Field Goals\n",
      "A_3PA : Away 3-Point Field Goal Attempts\n",
      "A_3P% : Away 3-Point Field Goal Percentage\n",
      "A_2P : Away 2-Point Field Goals\n",
      "A_2PA : Away 2-point Field Goal Attempts\n",
      "A_2P% : Away 2-Point Field Goal Percentage\n",
      "A_FT : Away Free Throws\n",
      "A_FTA : Away Free Throw Attempts\n",
      "A_FT% : Away Free Throw Percentage\n",
      "A_ORB : Away Offensive Rebounds\n",
      "A_DRB : Away Defensive Rebounds\n",
      "A_TRB : Away Total Rebounds\n",
      "A_AST : Away Assists\n",
      "A_STL : Away Steals\n",
      "A_BLK : Away Blocks\n",
      "A_TOV : Away Turnovers\n",
      "A_PF : Away Personal Fouls\n",
      "A_PTS : Away Points\n"
     ]
    }
   ],
   "source": [
    "with open('../Data/raw_description.txt', 'r') as f:\n",
    "    for line in f:\n",
    "        print(line.strip())"
   ]
  },
  {
   "cell_type": "code",
   "execution_count": 3,
   "id": "e9f5b1da",
   "metadata": {},
   "outputs": [
    {
     "data": {
      "text/html": [
       "<div>\n",
       "<style scoped>\n",
       "    .dataframe tbody tr th:only-of-type {\n",
       "        vertical-align: middle;\n",
       "    }\n",
       "\n",
       "    .dataframe tbody tr th {\n",
       "        vertical-align: top;\n",
       "    }\n",
       "\n",
       "    .dataframe thead th {\n",
       "        text-align: right;\n",
       "    }\n",
       "</style>\n",
       "<table border=\"1\" class=\"dataframe\">\n",
       "  <thead>\n",
       "    <tr style=\"text-align: right;\">\n",
       "      <th></th>\n",
       "      <th>Date</th>\n",
       "      <th>H_Team</th>\n",
       "      <th>H_ave3P</th>\n",
       "      <th>H_ave3PA</th>\n",
       "      <th>H_ave2P</th>\n",
       "      <th>H_ave2PA</th>\n",
       "      <th>H_aveFT</th>\n",
       "      <th>H_aveFTA</th>\n",
       "      <th>H_aveORB</th>\n",
       "      <th>H_aveDRB</th>\n",
       "      <th>H_aveAST</th>\n",
       "      <th>H_aveSTL</th>\n",
       "      <th>H_aveBLK</th>\n",
       "      <th>H_aveTOV</th>\n",
       "      <th>H_avePF</th>\n",
       "      <th>H_Elo</th>\n",
       "      <th>A_Team</th>\n",
       "      <th>A_ave3P</th>\n",
       "      <th>A_ave3PA</th>\n",
       "      <th>A_ave2P</th>\n",
       "      <th>A_ave2PA</th>\n",
       "      <th>A_aveFT</th>\n",
       "      <th>A_aveFTA</th>\n",
       "      <th>A_aveORB</th>\n",
       "      <th>A_aveDRB</th>\n",
       "      <th>A_aveAST</th>\n",
       "      <th>A_aveSTL</th>\n",
       "      <th>A_aveBLK</th>\n",
       "      <th>A_aveTOV</th>\n",
       "      <th>A_avePF</th>\n",
       "      <th>A_Elo</th>\n",
       "      <th>H_Dif</th>\n",
       "    </tr>\n",
       "  </thead>\n",
       "  <tbody>\n",
       "    <tr>\n",
       "      <th>0</th>\n",
       "      <td>July 20, 2021</td>\n",
       "      <td>MIL</td>\n",
       "      <td>12.0</td>\n",
       "      <td>32.0</td>\n",
       "      <td>30.8</td>\n",
       "      <td>59.0</td>\n",
       "      <td>15.4</td>\n",
       "      <td>22.2</td>\n",
       "      <td>13.6</td>\n",
       "      <td>31.4</td>\n",
       "      <td>23.6</td>\n",
       "      <td>7.6</td>\n",
       "      <td>3.0</td>\n",
       "      <td>9.4</td>\n",
       "      <td>17.6</td>\n",
       "      <td>1709.957578</td>\n",
       "      <td>PHO</td>\n",
       "      <td>12.0</td>\n",
       "      <td>29.4</td>\n",
       "      <td>30.4</td>\n",
       "      <td>55.4</td>\n",
       "      <td>14.8</td>\n",
       "      <td>17.2</td>\n",
       "      <td>7.2</td>\n",
       "      <td>32.2</td>\n",
       "      <td>21.2</td>\n",
       "      <td>6.2</td>\n",
       "      <td>4.0</td>\n",
       "      <td>12.0</td>\n",
       "      <td>20.2</td>\n",
       "      <td>1700.119737</td>\n",
       "      <td>7</td>\n",
       "    </tr>\n",
       "    <tr>\n",
       "      <th>1</th>\n",
       "      <td>July 17, 2021</td>\n",
       "      <td>PHO</td>\n",
       "      <td>12.8</td>\n",
       "      <td>31.8</td>\n",
       "      <td>30.6</td>\n",
       "      <td>54.4</td>\n",
       "      <td>14.2</td>\n",
       "      <td>17.2</td>\n",
       "      <td>7.6</td>\n",
       "      <td>34.2</td>\n",
       "      <td>22.0</td>\n",
       "      <td>5.4</td>\n",
       "      <td>3.8</td>\n",
       "      <td>12.2</td>\n",
       "      <td>20.4</td>\n",
       "      <td>1705.763269</td>\n",
       "      <td>MIL</td>\n",
       "      <td>12.6</td>\n",
       "      <td>35.4</td>\n",
       "      <td>28.4</td>\n",
       "      <td>56.0</td>\n",
       "      <td>17.4</td>\n",
       "      <td>23.0</td>\n",
       "      <td>13.8</td>\n",
       "      <td>33.0</td>\n",
       "      <td>23.2</td>\n",
       "      <td>8.4</td>\n",
       "      <td>3.8</td>\n",
       "      <td>10.0</td>\n",
       "      <td>18.8</td>\n",
       "      <td>1704.314046</td>\n",
       "      <td>-4</td>\n",
       "    </tr>\n",
       "    <tr>\n",
       "      <th>2</th>\n",
       "      <td>July 14, 2021</td>\n",
       "      <td>MIL</td>\n",
       "      <td>13.0</td>\n",
       "      <td>35.4</td>\n",
       "      <td>29.8</td>\n",
       "      <td>55.6</td>\n",
       "      <td>16.2</td>\n",
       "      <td>22.2</td>\n",
       "      <td>13.2</td>\n",
       "      <td>33.4</td>\n",
       "      <td>24.4</td>\n",
       "      <td>8.4</td>\n",
       "      <td>4.2</td>\n",
       "      <td>10.6</td>\n",
       "      <td>18.6</td>\n",
       "      <td>1694.990950</td>\n",
       "      <td>PHO</td>\n",
       "      <td>13.2</td>\n",
       "      <td>32.4</td>\n",
       "      <td>29.8</td>\n",
       "      <td>55.0</td>\n",
       "      <td>14.4</td>\n",
       "      <td>17.4</td>\n",
       "      <td>8.0</td>\n",
       "      <td>34.0</td>\n",
       "      <td>22.8</td>\n",
       "      <td>6.0</td>\n",
       "      <td>2.2</td>\n",
       "      <td>11.6</td>\n",
       "      <td>19.4</td>\n",
       "      <td>1715.086366</td>\n",
       "      <td>6</td>\n",
       "    </tr>\n",
       "    <tr>\n",
       "      <th>3</th>\n",
       "      <td>July 11, 2021</td>\n",
       "      <td>MIL</td>\n",
       "      <td>11.8</td>\n",
       "      <td>36.0</td>\n",
       "      <td>29.0</td>\n",
       "      <td>53.8</td>\n",
       "      <td>15.0</td>\n",
       "      <td>20.8</td>\n",
       "      <td>13.0</td>\n",
       "      <td>32.8</td>\n",
       "      <td>22.6</td>\n",
       "      <td>8.0</td>\n",
       "      <td>4.4</td>\n",
       "      <td>11.8</td>\n",
       "      <td>18.6</td>\n",
       "      <td>1689.076362</td>\n",
       "      <td>PHO</td>\n",
       "      <td>12.2</td>\n",
       "      <td>30.2</td>\n",
       "      <td>29.0</td>\n",
       "      <td>57.8</td>\n",
       "      <td>15.8</td>\n",
       "      <td>18.4</td>\n",
       "      <td>10.2</td>\n",
       "      <td>36.4</td>\n",
       "      <td>21.8</td>\n",
       "      <td>6.2</td>\n",
       "      <td>3.2</td>\n",
       "      <td>11.6</td>\n",
       "      <td>20.0</td>\n",
       "      <td>1721.000954</td>\n",
       "      <td>20</td>\n",
       "    </tr>\n",
       "    <tr>\n",
       "      <th>4</th>\n",
       "      <td>July 8, 2021</td>\n",
       "      <td>PHO</td>\n",
       "      <td>10.2</td>\n",
       "      <td>28.6</td>\n",
       "      <td>29.4</td>\n",
       "      <td>59.8</td>\n",
       "      <td>15.8</td>\n",
       "      <td>18.2</td>\n",
       "      <td>10.2</td>\n",
       "      <td>36.4</td>\n",
       "      <td>21.4</td>\n",
       "      <td>5.8</td>\n",
       "      <td>3.4</td>\n",
       "      <td>11.2</td>\n",
       "      <td>20.0</td>\n",
       "      <td>1735.055895</td>\n",
       "      <td>MIL</td>\n",
       "      <td>12.2</td>\n",
       "      <td>35.6</td>\n",
       "      <td>29.2</td>\n",
       "      <td>53.2</td>\n",
       "      <td>14.4</td>\n",
       "      <td>20.4</td>\n",
       "      <td>12.4</td>\n",
       "      <td>34.2</td>\n",
       "      <td>23.8</td>\n",
       "      <td>8.0</td>\n",
       "      <td>4.0</td>\n",
       "      <td>12.2</td>\n",
       "      <td>18.8</td>\n",
       "      <td>1675.021420</td>\n",
       "      <td>10</td>\n",
       "    </tr>\n",
       "  </tbody>\n",
       "</table>\n",
       "</div>"
      ],
      "text/plain": [
       "            Date H_Team  H_ave3P  H_ave3PA  H_ave2P  H_ave2PA  H_aveFT  \\\n",
       "0  July 20, 2021    MIL     12.0      32.0     30.8      59.0     15.4   \n",
       "1  July 17, 2021    PHO     12.8      31.8     30.6      54.4     14.2   \n",
       "2  July 14, 2021    MIL     13.0      35.4     29.8      55.6     16.2   \n",
       "3  July 11, 2021    MIL     11.8      36.0     29.0      53.8     15.0   \n",
       "4   July 8, 2021    PHO     10.2      28.6     29.4      59.8     15.8   \n",
       "\n",
       "   H_aveFTA  H_aveORB  H_aveDRB  H_aveAST  H_aveSTL  H_aveBLK  H_aveTOV  \\\n",
       "0      22.2      13.6      31.4      23.6       7.6       3.0       9.4   \n",
       "1      17.2       7.6      34.2      22.0       5.4       3.8      12.2   \n",
       "2      22.2      13.2      33.4      24.4       8.4       4.2      10.6   \n",
       "3      20.8      13.0      32.8      22.6       8.0       4.4      11.8   \n",
       "4      18.2      10.2      36.4      21.4       5.8       3.4      11.2   \n",
       "\n",
       "   H_avePF        H_Elo A_Team  A_ave3P  A_ave3PA  A_ave2P  A_ave2PA  A_aveFT  \\\n",
       "0     17.6  1709.957578    PHO     12.0      29.4     30.4      55.4     14.8   \n",
       "1     20.4  1705.763269    MIL     12.6      35.4     28.4      56.0     17.4   \n",
       "2     18.6  1694.990950    PHO     13.2      32.4     29.8      55.0     14.4   \n",
       "3     18.6  1689.076362    PHO     12.2      30.2     29.0      57.8     15.8   \n",
       "4     20.0  1735.055895    MIL     12.2      35.6     29.2      53.2     14.4   \n",
       "\n",
       "   A_aveFTA  A_aveORB  A_aveDRB  A_aveAST  A_aveSTL  A_aveBLK  A_aveTOV  \\\n",
       "0      17.2       7.2      32.2      21.2       6.2       4.0      12.0   \n",
       "1      23.0      13.8      33.0      23.2       8.4       3.8      10.0   \n",
       "2      17.4       8.0      34.0      22.8       6.0       2.2      11.6   \n",
       "3      18.4      10.2      36.4      21.8       6.2       3.2      11.6   \n",
       "4      20.4      12.4      34.2      23.8       8.0       4.0      12.2   \n",
       "\n",
       "   A_avePF        A_Elo  H_Dif  \n",
       "0     20.2  1700.119737      7  \n",
       "1     18.8  1704.314046     -4  \n",
       "2     19.4  1715.086366      6  \n",
       "3     20.0  1721.000954     20  \n",
       "4     18.8  1675.021420     10  "
      ]
     },
     "execution_count": 3,
     "metadata": {},
     "output_type": "execute_result"
    }
   ],
   "source": [
    "data_df = pd.read_csv('../Data/data.csv')\n",
    "data_df.head()"
   ]
  },
  {
   "cell_type": "code",
   "execution_count": 4,
   "id": "22463298",
   "metadata": {},
   "outputs": [
    {
     "data": {
      "text/plain": [
       "(6247, 32)"
      ]
     },
     "execution_count": 4,
     "metadata": {},
     "output_type": "execute_result"
    }
   ],
   "source": [
    "data_df.shape"
   ]
  },
  {
   "cell_type": "code",
   "execution_count": 5,
   "id": "0dfeae28",
   "metadata": {},
   "outputs": [
    {
     "data": {
      "text/plain": [
       "0"
      ]
     },
     "execution_count": 5,
     "metadata": {},
     "output_type": "execute_result"
    }
   ],
   "source": [
    "# duplicate?\n",
    "data_df.index.duplicated().sum()"
   ]
  },
  {
   "cell_type": "code",
   "execution_count": 6,
   "id": "cc91ea92",
   "metadata": {},
   "outputs": [
    {
     "data": {
      "text/plain": [
       "0"
      ]
     },
     "execution_count": 6,
     "metadata": {},
     "output_type": "execute_result"
    }
   ],
   "source": [
    "# Cột output có bao nhiêu giá trị thiếu?\n",
    "data_df['H_Dif'].isna().sum()"
   ]
  },
  {
   "cell_type": "markdown",
   "id": "18761891",
   "metadata": {},
   "source": [
    "# DELETE"
   ]
  },
  {
   "cell_type": "code",
   "execution_count": 7,
   "id": "7cbe303f",
   "metadata": {},
   "outputs": [],
   "source": [
    "data_df['H_Dif'] = data_df.apply(lambda x: x['H_Dif'] > 0, axis=1)"
   ]
  },
  {
   "cell_type": "markdown",
   "id": "2ffe77a9",
   "metadata": {},
   "source": [
    "### Split data"
   ]
  },
  {
   "cell_type": "code",
   "execution_count": 8,
   "id": "e622e8b2",
   "metadata": {},
   "outputs": [],
   "source": [
    "# Tách X và y\n",
    "y_sr = data_df[\"H_Dif\"] # sr là viết tắt của series\n",
    "X_df = data_df.drop(\"H_Dif\", axis=1)"
   ]
  },
  {
   "cell_type": "code",
   "execution_count": 9,
   "id": "edda0e7d",
   "metadata": {},
   "outputs": [],
   "source": [
    "# Split data_set and test_set (85-15)\n",
    "data_X_df, test_X_df, data_y_sr, test_y_sr = train_test_split(X_df, y_sr, \n",
    "                                               test_size=0.15, \n",
    "                                               random_state=0)\n",
    "\n",
    "# Split train_set and valid_set from data set (85-15)\n",
    "train_X_df, valid_X_df, train_y_sr, valid_y_sr = train_test_split(data_X_df, data_y_sr, \n",
    "                                               test_size=0.15,\n",
    "                                               random_state=0)"
   ]
  },
  {
   "cell_type": "code",
   "execution_count": 10,
   "id": "ea1ab322",
   "metadata": {},
   "outputs": [
    {
     "name": "stdout",
     "output_type": "stream",
     "text": [
      "(4512, 31)\n",
      "(797, 31)\n",
      "(938, 31)\n"
     ]
    }
   ],
   "source": [
    "print(train_X_df.shape)\n",
    "print(valid_X_df.shape)\n",
    "print(test_X_df.shape)"
   ]
  },
  {
   "cell_type": "markdown",
   "id": "450fed93",
   "metadata": {},
   "source": [
    "### Explore train data"
   ]
  },
  {
   "cell_type": "code",
   "execution_count": 11,
   "id": "e4a57766",
   "metadata": {
    "scrolled": true
   },
   "outputs": [
    {
     "data": {
      "text/plain": [
       "Date         object\n",
       "H_Team       object\n",
       "H_ave3P     float64\n",
       "H_ave3PA    float64\n",
       "H_ave2P     float64\n",
       "H_ave2PA    float64\n",
       "H_aveFT     float64\n",
       "H_aveFTA    float64\n",
       "H_aveORB    float64\n",
       "H_aveDRB    float64\n",
       "H_aveAST    float64\n",
       "H_aveSTL    float64\n",
       "H_aveBLK    float64\n",
       "H_aveTOV    float64\n",
       "H_avePF     float64\n",
       "H_Elo       float64\n",
       "A_Team       object\n",
       "A_ave3P     float64\n",
       "A_ave3PA    float64\n",
       "A_ave2P     float64\n",
       "A_ave2PA    float64\n",
       "A_aveFT     float64\n",
       "A_aveFTA    float64\n",
       "A_aveORB    float64\n",
       "A_aveDRB    float64\n",
       "A_aveAST    float64\n",
       "A_aveSTL    float64\n",
       "A_aveBLK    float64\n",
       "A_aveTOV    float64\n",
       "A_avePF     float64\n",
       "A_Elo       float64\n",
       "dtype: object"
      ]
     },
     "execution_count": 11,
     "metadata": {},
     "output_type": "execute_result"
    }
   ],
   "source": [
    "train_X_df.dtypes"
   ]
  },
  {
   "cell_type": "code",
   "execution_count": 12,
   "id": "45c0c1cf",
   "metadata": {},
   "outputs": [],
   "source": [
    "def remove_object_col(X):\n",
    "    return X.select_dtypes(exclude=['object'])"
   ]
  },
  {
   "cell_type": "markdown",
   "id": "99146464",
   "metadata": {},
   "source": [
    "### Random Forest Model"
   ]
  },
  {
   "cell_type": "code",
   "execution_count": 15,
   "id": "e47c4951",
   "metadata": {},
   "outputs": [
    {
     "data": {
      "text/plain": [
       "0.6833688699360341"
      ]
     },
     "execution_count": 15,
     "metadata": {},
     "output_type": "execute_result"
    }
   ],
   "source": [
    "random_forest_model = RandomForestClassifier(random_state=0,\n",
    "                                             oob_score = True,\n",
    "                                             n_jobs = -1)\n",
    "\n",
    "# Number of trees in random forest\n",
    "n_estimators = list(range(100,1000,200))\n",
    "# Number of features to consider at every split\n",
    "max_features = ['auto', 'sqrt', 'log2']\n",
    "# comment\n",
    "min_samples_leaf = list(range(10,100,10))\n",
    "\n",
    "RFparam_grid = {\n",
    "    'randomforestclassifier__n_estimators': n_estimators,\n",
    "    'randomforestclassifier__max_features': max_features,\n",
    "}\n",
    "\n",
    "full_pipeline = make_pipeline(FunctionTransformer(remove_object_col),\n",
    "                              StandardScaler(),\n",
    "                              random_forest_model)\n",
    "\n",
    "gs = GridSearchCV(estimator = full_pipeline, \n",
    "                  param_grid = RFparam_grid, \n",
    "                  scoring = 'accuracy', \n",
    "                  cv = StratifiedKFold(n_splits=5),\n",
    "                  return_train_score = True)\n",
    "\n",
    "gs.fit(data_X_df, data_y_sr)\n",
    "gs.predict(test_X_df)\n",
    "gs.score(test_X_df, test_y_sr)"
   ]
  },
  {
   "cell_type": "code",
   "execution_count": 18,
   "id": "20385dec",
   "metadata": {},
   "outputs": [
    {
     "data": {
      "text/plain": [
       "0.6865671641791045"
      ]
     },
     "execution_count": 18,
     "metadata": {},
     "output_type": "execute_result"
    }
   ],
   "source": [
    "random_forest_model = RandomForestClassifier(random_state=0,\n",
    "                                             oob_score = True,\n",
    "                                             n_jobs = -1,\n",
    "                                             min_samples_leaf = 50)\n",
    "# Number of trees in random forest\n",
    "n_estimators = list(range(100,1000,200))\n",
    "# Number of features to consider at every split\n",
    "max_features = ['auto', 'sqrt', 'log2']\n",
    "# comment\n",
    "min_samples_leaf = list(range(10,100,10))\n",
    "\n",
    "RFparam_grid = {\n",
    "    'randomforestclassifier__n_estimators': n_estimators,\n",
    "    'randomforestclassifier__max_features': max_features,\n",
    "    'randomforestclassifier__min_samples_leaf': min_samples_leaf,\n",
    "}\n",
    "\n",
    "full_pipeline = make_pipeline(FunctionTransformer(remove_object_col),\n",
    "                              StandardScaler(),\n",
    "                              random_forest_model)\n",
    "\n",
    "gs = RandomizedSearchCV(estimator = full_pipeline, \n",
    "                  param_distributions = RFparam_grid, \n",
    "                  scoring = 'accuracy', \n",
    "                  cv = StratifiedKFold(n_splits=5),\n",
    "                  return_train_score = True,\n",
    "                  n_iter = 100)\n",
    "\n",
    "gs.fit(data_X_df, data_y_sr)\n",
    "gs.predict(test_X_df)\n",
    "gs.score(test_X_df, test_y_sr)"
   ]
  },
  {
   "cell_type": "markdown",
   "id": "9cb9eb18",
   "metadata": {},
   "source": [
    "### Logistic Regression"
   ]
  },
  {
   "cell_type": "code",
   "execution_count": 17,
   "id": "62df8335",
   "metadata": {
    "scrolled": true
   },
   "outputs": [
    {
     "data": {
      "text/plain": [
       "0.7089552238805971"
      ]
     },
     "execution_count": 17,
     "metadata": {},
     "output_type": "execute_result"
    }
   ],
   "source": [
    "logistic_regression_model = LogisticRegression(random_state=0)\n",
    "\n",
    "LRparam_grid = {\n",
    "    'logisticregression__C': [0.001, 0.01, 0.1, 1, 10, 100, 1000],\n",
    "    'logisticregression__max_iter': list(range(100,800,100)),\n",
    "    'logisticregression__solver': ['newton-cg', 'lbfgs', 'liblinear', 'sag', 'saga']\n",
    "}\n",
    "\n",
    "full_pipeline = make_pipeline(FunctionTransformer(remove_object_col),\n",
    "                              StandardScaler(), \n",
    "                              logistic_regression_model)\n",
    "\n",
    "gs = GridSearchCV(estimator = full_pipeline, \n",
    "                  param_grid = LRparam_grid, \n",
    "                  scoring = 'accuracy', \n",
    "                  cv = StratifiedKFold(n_splits=5),\n",
    "                  return_train_score=True)\n",
    "gs.fit(data_X_df, data_y_sr)\n",
    "gs.predict(test_X_df)\n",
    "gs.score(test_X_df, test_y_sr)"
   ]
  },
  {
   "cell_type": "code",
   "execution_count": 19,
   "id": "3359558e",
   "metadata": {
    "scrolled": false
   },
   "outputs": [
    {
     "data": {
      "text/plain": [
       "{'randomforestclassifier__n_estimators': 900,\n",
       " 'randomforestclassifier__min_samples_leaf': 10,\n",
       " 'randomforestclassifier__max_features': 'auto'}"
      ]
     },
     "execution_count": 19,
     "metadata": {},
     "output_type": "execute_result"
    }
   ],
   "source": [
    "gs.best_params_"
   ]
  },
  {
   "cell_type": "markdown",
   "id": "79b72c39",
   "metadata": {},
   "source": [
    "### Neural Network "
   ]
  },
  {
   "cell_type": "code",
   "execution_count": 21,
   "id": "911af947",
   "metadata": {
    "scrolled": true
   },
   "outputs": [
    {
     "name": "stderr",
     "output_type": "stream",
     "text": [
      "C:\\Users\\mvc\\AppData\\Local\\Programs\\Python\\Python39\\lib\\site-packages\\sklearn\\neural_network\\_multilayer_perceptron.py:614: ConvergenceWarning: Stochastic Optimizer: Maximum iterations (100) reached and the optimization hasn't converged yet.\n",
      "  warnings.warn(\n",
      "C:\\Users\\mvc\\AppData\\Local\\Programs\\Python\\Python39\\lib\\site-packages\\sklearn\\neural_network\\_multilayer_perceptron.py:614: ConvergenceWarning: Stochastic Optimizer: Maximum iterations (100) reached and the optimization hasn't converged yet.\n",
      "  warnings.warn(\n",
      "C:\\Users\\mvc\\AppData\\Local\\Programs\\Python\\Python39\\lib\\site-packages\\sklearn\\neural_network\\_multilayer_perceptron.py:614: ConvergenceWarning: Stochastic Optimizer: Maximum iterations (100) reached and the optimization hasn't converged yet.\n",
      "  warnings.warn(\n",
      "C:\\Users\\mvc\\AppData\\Local\\Programs\\Python\\Python39\\lib\\site-packages\\sklearn\\neural_network\\_multilayer_perceptron.py:614: ConvergenceWarning: Stochastic Optimizer: Maximum iterations (100) reached and the optimization hasn't converged yet.\n",
      "  warnings.warn(\n",
      "C:\\Users\\mvc\\AppData\\Local\\Programs\\Python\\Python39\\lib\\site-packages\\sklearn\\neural_network\\_multilayer_perceptron.py:614: ConvergenceWarning: Stochastic Optimizer: Maximum iterations (100) reached and the optimization hasn't converged yet.\n",
      "  warnings.warn(\n",
      "C:\\Users\\mvc\\AppData\\Local\\Programs\\Python\\Python39\\lib\\site-packages\\sklearn\\neural_network\\_multilayer_perceptron.py:614: ConvergenceWarning: Stochastic Optimizer: Maximum iterations (300) reached and the optimization hasn't converged yet.\n",
      "  warnings.warn(\n",
      "C:\\Users\\mvc\\AppData\\Local\\Programs\\Python\\Python39\\lib\\site-packages\\sklearn\\neural_network\\_multilayer_perceptron.py:614: ConvergenceWarning: Stochastic Optimizer: Maximum iterations (300) reached and the optimization hasn't converged yet.\n",
      "  warnings.warn(\n",
      "C:\\Users\\mvc\\AppData\\Local\\Programs\\Python\\Python39\\lib\\site-packages\\sklearn\\neural_network\\_multilayer_perceptron.py:614: ConvergenceWarning: Stochastic Optimizer: Maximum iterations (300) reached and the optimization hasn't converged yet.\n",
      "  warnings.warn(\n",
      "C:\\Users\\mvc\\AppData\\Local\\Programs\\Python\\Python39\\lib\\site-packages\\sklearn\\neural_network\\_multilayer_perceptron.py:614: ConvergenceWarning: Stochastic Optimizer: Maximum iterations (300) reached and the optimization hasn't converged yet.\n",
      "  warnings.warn(\n",
      "C:\\Users\\mvc\\AppData\\Local\\Programs\\Python\\Python39\\lib\\site-packages\\sklearn\\neural_network\\_multilayer_perceptron.py:614: ConvergenceWarning: Stochastic Optimizer: Maximum iterations (300) reached and the optimization hasn't converged yet.\n",
      "  warnings.warn(\n",
      "C:\\Users\\mvc\\AppData\\Local\\Programs\\Python\\Python39\\lib\\site-packages\\sklearn\\neural_network\\_multilayer_perceptron.py:614: ConvergenceWarning: Stochastic Optimizer: Maximum iterations (100) reached and the optimization hasn't converged yet.\n",
      "  warnings.warn(\n",
      "C:\\Users\\mvc\\AppData\\Local\\Programs\\Python\\Python39\\lib\\site-packages\\sklearn\\neural_network\\_multilayer_perceptron.py:614: ConvergenceWarning: Stochastic Optimizer: Maximum iterations (100) reached and the optimization hasn't converged yet.\n",
      "  warnings.warn(\n",
      "C:\\Users\\mvc\\AppData\\Local\\Programs\\Python\\Python39\\lib\\site-packages\\sklearn\\neural_network\\_multilayer_perceptron.py:614: ConvergenceWarning: Stochastic Optimizer: Maximum iterations (100) reached and the optimization hasn't converged yet.\n",
      "  warnings.warn(\n",
      "C:\\Users\\mvc\\AppData\\Local\\Programs\\Python\\Python39\\lib\\site-packages\\sklearn\\neural_network\\_multilayer_perceptron.py:614: ConvergenceWarning: Stochastic Optimizer: Maximum iterations (100) reached and the optimization hasn't converged yet.\n",
      "  warnings.warn(\n",
      "C:\\Users\\mvc\\AppData\\Local\\Programs\\Python\\Python39\\lib\\site-packages\\sklearn\\neural_network\\_multilayer_perceptron.py:614: ConvergenceWarning: Stochastic Optimizer: Maximum iterations (100) reached and the optimization hasn't converged yet.\n",
      "  warnings.warn(\n",
      "C:\\Users\\mvc\\AppData\\Local\\Programs\\Python\\Python39\\lib\\site-packages\\sklearn\\neural_network\\_multilayer_perceptron.py:614: ConvergenceWarning: Stochastic Optimizer: Maximum iterations (300) reached and the optimization hasn't converged yet.\n",
      "  warnings.warn(\n",
      "C:\\Users\\mvc\\AppData\\Local\\Programs\\Python\\Python39\\lib\\site-packages\\sklearn\\neural_network\\_multilayer_perceptron.py:614: ConvergenceWarning: Stochastic Optimizer: Maximum iterations (300) reached and the optimization hasn't converged yet.\n",
      "  warnings.warn(\n",
      "C:\\Users\\mvc\\AppData\\Local\\Programs\\Python\\Python39\\lib\\site-packages\\sklearn\\neural_network\\_multilayer_perceptron.py:614: ConvergenceWarning: Stochastic Optimizer: Maximum iterations (300) reached and the optimization hasn't converged yet.\n",
      "  warnings.warn(\n",
      "C:\\Users\\mvc\\AppData\\Local\\Programs\\Python\\Python39\\lib\\site-packages\\sklearn\\neural_network\\_multilayer_perceptron.py:614: ConvergenceWarning: Stochastic Optimizer: Maximum iterations (300) reached and the optimization hasn't converged yet.\n",
      "  warnings.warn(\n",
      "C:\\Users\\mvc\\AppData\\Local\\Programs\\Python\\Python39\\lib\\site-packages\\sklearn\\neural_network\\_multilayer_perceptron.py:614: ConvergenceWarning: Stochastic Optimizer: Maximum iterations (300) reached and the optimization hasn't converged yet.\n",
      "  warnings.warn(\n",
      "C:\\Users\\mvc\\AppData\\Local\\Programs\\Python\\Python39\\lib\\site-packages\\sklearn\\neural_network\\_multilayer_perceptron.py:614: ConvergenceWarning: Stochastic Optimizer: Maximum iterations (100) reached and the optimization hasn't converged yet.\n",
      "  warnings.warn(\n",
      "C:\\Users\\mvc\\AppData\\Local\\Programs\\Python\\Python39\\lib\\site-packages\\sklearn\\neural_network\\_multilayer_perceptron.py:614: ConvergenceWarning: Stochastic Optimizer: Maximum iterations (100) reached and the optimization hasn't converged yet.\n",
      "  warnings.warn(\n",
      "C:\\Users\\mvc\\AppData\\Local\\Programs\\Python\\Python39\\lib\\site-packages\\sklearn\\neural_network\\_multilayer_perceptron.py:614: ConvergenceWarning: Stochastic Optimizer: Maximum iterations (100) reached and the optimization hasn't converged yet.\n",
      "  warnings.warn(\n",
      "C:\\Users\\mvc\\AppData\\Local\\Programs\\Python\\Python39\\lib\\site-packages\\sklearn\\neural_network\\_multilayer_perceptron.py:614: ConvergenceWarning: Stochastic Optimizer: Maximum iterations (100) reached and the optimization hasn't converged yet.\n",
      "  warnings.warn(\n",
      "C:\\Users\\mvc\\AppData\\Local\\Programs\\Python\\Python39\\lib\\site-packages\\sklearn\\neural_network\\_multilayer_perceptron.py:614: ConvergenceWarning: Stochastic Optimizer: Maximum iterations (100) reached and the optimization hasn't converged yet.\n",
      "  warnings.warn(\n",
      "C:\\Users\\mvc\\AppData\\Local\\Programs\\Python\\Python39\\lib\\site-packages\\sklearn\\neural_network\\_multilayer_perceptron.py:614: ConvergenceWarning: Stochastic Optimizer: Maximum iterations (300) reached and the optimization hasn't converged yet.\n",
      "  warnings.warn(\n",
      "C:\\Users\\mvc\\AppData\\Local\\Programs\\Python\\Python39\\lib\\site-packages\\sklearn\\neural_network\\_multilayer_perceptron.py:614: ConvergenceWarning: Stochastic Optimizer: Maximum iterations (300) reached and the optimization hasn't converged yet.\n",
      "  warnings.warn(\n",
      "C:\\Users\\mvc\\AppData\\Local\\Programs\\Python\\Python39\\lib\\site-packages\\sklearn\\neural_network\\_multilayer_perceptron.py:614: ConvergenceWarning: Stochastic Optimizer: Maximum iterations (300) reached and the optimization hasn't converged yet.\n",
      "  warnings.warn(\n",
      "C:\\Users\\mvc\\AppData\\Local\\Programs\\Python\\Python39\\lib\\site-packages\\sklearn\\neural_network\\_multilayer_perceptron.py:614: ConvergenceWarning: Stochastic Optimizer: Maximum iterations (300) reached and the optimization hasn't converged yet.\n",
      "  warnings.warn(\n",
      "C:\\Users\\mvc\\AppData\\Local\\Programs\\Python\\Python39\\lib\\site-packages\\sklearn\\neural_network\\_multilayer_perceptron.py:614: ConvergenceWarning: Stochastic Optimizer: Maximum iterations (300) reached and the optimization hasn't converged yet.\n",
      "  warnings.warn(\n",
      "C:\\Users\\mvc\\AppData\\Local\\Programs\\Python\\Python39\\lib\\site-packages\\sklearn\\neural_network\\_multilayer_perceptron.py:614: ConvergenceWarning: Stochastic Optimizer: Maximum iterations (100) reached and the optimization hasn't converged yet.\n",
      "  warnings.warn(\n"
     ]
    },
    {
     "data": {
      "text/plain": [
       "0.6673773987206824"
      ]
     },
     "execution_count": 21,
     "metadata": {},
     "output_type": "execute_result"
    }
   ],
   "source": [
    "%timeit\n",
    "neural_network_model = MLPClassifier(random_state=0)\n",
    "\n",
    "GRID = [\n",
    "    {'mlpclassifier__max_iter': [100, 300],\n",
    "     'mlpclassifier__alpha': [0.0001, 0.001, 0.005]}\n",
    "]\n",
    "\n",
    "full_pipeline = make_pipeline(FunctionTransformer(remove_object_col),\n",
    "                              StandardScaler(), \n",
    "                              MLPClassifier())\n",
    "\n",
    "gs = GridSearchCV(estimator = full_pipeline, \n",
    "                  param_grid=GRID, \n",
    "                  scoring='accuracy', \n",
    "                  cv = StratifiedKFold(n_splits=5),\n",
    "                  return_train_score=True)\n",
    "\n",
    "gs.fit(data_X_df, data_y_sr)\n",
    "gs.predict(test_X_df)\n",
    "gs.score(test_X_df, test_y_sr)"
   ]
  },
  {
   "cell_type": "markdown",
   "id": "342523e5",
   "metadata": {},
   "source": [
    "### SVM"
   ]
  },
  {
   "cell_type": "markdown",
   "id": "298056ef",
   "metadata": {},
   "source": [
    "date = input()\n",
    "H_Team = input()\n",
    "A_Team = input()\n",
    "\n",
    "read raw_data => find 5 recent games => row => df(1 row)\n",
    "col_name = row\n",
    "\n",
    "=> predict H_dif = ?\n",
    "\n",
    "crawl data ss 2021"
   ]
  },
  {
   "cell_type": "markdown",
   "id": "ec4949c3",
   "metadata": {},
   "source": [
    "Full version ipynb (check lib) min_ds-env \n",
    "// Crawl data => Preprocess => Best Model score"
   ]
  }
 ],
 "metadata": {
  "kernelspec": {
   "display_name": "Python 3 (ipykernel)",
   "language": "python",
   "name": "python3"
  },
  "language_info": {
   "codemirror_mode": {
    "name": "ipython",
    "version": 3
   },
   "file_extension": ".py",
   "mimetype": "text/x-python",
   "name": "python",
   "nbconvert_exporter": "python",
   "pygments_lexer": "ipython3",
   "version": "3.9.6"
  }
 },
 "nbformat": 4,
 "nbformat_minor": 5
}
