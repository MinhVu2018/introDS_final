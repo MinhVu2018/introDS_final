{
 "cells": [
  {
   "cell_type": "code",
   "execution_count": 24,
   "id": "9b6c2ebf",
   "metadata": {},
   "outputs": [],
   "source": [
    "import pandas as pd\n",
    "# import numpy as np\n",
    "pd.set_option(\"max_columns\", None) # all df cols\n",
    "\n",
    "from sklearn.model_selection import train_test_split\n",
    "# from sklearn.preprocessing import OneHotEncoder, StandardScaler\n",
    "# from sklearn.impute import SimpleImputer\n",
    "from sklearn.base import BaseEstimator, TransformerMixin\n",
    "from sklearn.pipeline import Pipeline, make_pipeline\n",
    "# from sklearn.compose import ColumnTransformer, make_column_transformer\n",
    "# from sklearn.neural_network import MLPClassifier\n",
    "from sklearn import set_config\n",
    "set_config(display='diagram') # Để trực quan hóa pipeline"
   ]
  },
  {
   "cell_type": "markdown",
   "id": "a07164c3",
   "metadata": {},
   "source": [
    "Description"
   ]
  },
  {
   "cell_type": "code",
   "execution_count": 16,
   "id": "8efbb2dc",
   "metadata": {
    "scrolled": true
   },
   "outputs": [
    {
     "name": "stdout",
     "output_type": "stream",
     "text": [
      "Date : Date\n",
      "H_Rk : Home Rank\n",
      "H_Team : Home Team\n",
      "H_G : Home Games\n",
      "H_MP : Home Minutes Played\n",
      "H_FG : Home Field Goals\n",
      "H_FGA : Home Field Goal Attempts\n",
      "H_FG% : Home Field Goal Percentage\n",
      "H_3P : Home 3-Point Field Goals\n",
      "H_3PA : Home 3-Point Field Goal Attempts\n",
      "H_3P% : Home 3-Point Field Goal Percentage\n",
      "H_2P : Home 2-Point Field Goals\n",
      "H_2PA : Home 2-point Field Goal Attempts\n",
      "H_2P% : Home 2-Point Field Goal Percentage\n",
      "H_FT : Home Free Throws\n",
      "H_FTA : Home Free Throw Attempts\n",
      "H_FT% : Home Free Throw Percentage\n",
      "H_ORB : Home Offensive Rebounds\n",
      "H_DRB : Home Defensive Rebounds\n",
      "H_TRB : Home Total Rebounds\n",
      "H_AST : Home Assists\n",
      "H_STL : Home Steals\n",
      "H_BLK : Home Blocks\n",
      "H_TOV : Home Turnovers\n",
      "H_PF : Home Personal Fouls\n",
      "H_PTS : Home Points\n",
      "A_Rk : Away Rank\n",
      "A_Team : Away Team\n",
      "A_G : Away Games\n",
      "A_MP : Away Minutes Played\n",
      "A_FG : Away Field Goals\n",
      "A_FGA : Away Field Goal Attempts\n",
      "A_FG% : Away Field Goal Percentage\n",
      "A_3P : Away 3-Point Field Goals\n",
      "A_3PA : Away 3-Point Field Goal Attempts\n",
      "A_3P% : Away 3-Point Field Goal Percentage\n",
      "A_2P : Away 2-Point Field Goals\n",
      "A_2PA : Away 2-point Field Goal Attempts\n",
      "A_2P% : Away 2-Point Field Goal Percentage\n",
      "A_FT : Away Free Throws\n",
      "A_FTA : Away Free Throw Attempts\n",
      "A_FT% : Away Free Throw Percentage\n",
      "A_ORB : Away Offensive Rebounds\n",
      "A_DRB : Away Defensive Rebounds\n",
      "A_TRB : Away Total Rebounds\n",
      "A_AST : Away Assists\n",
      "A_STL : Away Steals\n",
      "A_BLK : Away Blocks\n",
      "A_TOV : Away Turnovers\n",
      "A_PF : Away Personal Fouls\n",
      "A_PTS : Away Points\n"
     ]
    }
   ],
   "source": [
    "with open('../Data/raw_description.txt', 'r') as f:\n",
    "    for line in f:\n",
    "        print(line.strip())"
   ]
  },
  {
   "cell_type": "code",
   "execution_count": 7,
   "id": "27465d62",
   "metadata": {},
   "outputs": [
    {
     "data": {
      "text/html": [
       "<div>\n",
       "<style scoped>\n",
       "    .dataframe tbody tr th:only-of-type {\n",
       "        vertical-align: middle;\n",
       "    }\n",
       "\n",
       "    .dataframe tbody tr th {\n",
       "        vertical-align: top;\n",
       "    }\n",
       "\n",
       "    .dataframe thead th {\n",
       "        text-align: right;\n",
       "    }\n",
       "</style>\n",
       "<table border=\"1\" class=\"dataframe\">\n",
       "  <thead>\n",
       "    <tr style=\"text-align: right;\">\n",
       "      <th></th>\n",
       "      <th>Date</th>\n",
       "      <th>H_aveTeam</th>\n",
       "      <th>H_ave3P</th>\n",
       "      <th>H_ave3PA</th>\n",
       "      <th>H_ave2P</th>\n",
       "      <th>H_ave2PA</th>\n",
       "      <th>H_aveFT</th>\n",
       "      <th>H_aveFTA</th>\n",
       "      <th>H_aveORB</th>\n",
       "      <th>H_aveDRB</th>\n",
       "      <th>H_aveAST</th>\n",
       "      <th>H_aveSTL</th>\n",
       "      <th>H_aveBLK</th>\n",
       "      <th>H_aveTOV</th>\n",
       "      <th>H_avePF</th>\n",
       "      <th>A_aveTeam</th>\n",
       "      <th>A_ave3P</th>\n",
       "      <th>A_ave3PA</th>\n",
       "      <th>A_ave2P</th>\n",
       "      <th>A_ave2PA</th>\n",
       "      <th>A_aveFT</th>\n",
       "      <th>A_aveFTA</th>\n",
       "      <th>A_aveORB</th>\n",
       "      <th>A_aveDRB</th>\n",
       "      <th>A_aveAST</th>\n",
       "      <th>A_aveSTL</th>\n",
       "      <th>A_aveBLK</th>\n",
       "      <th>A_aveTOV</th>\n",
       "      <th>A_avePF</th>\n",
       "      <th>H_Dif</th>\n",
       "    </tr>\n",
       "  </thead>\n",
       "  <tbody>\n",
       "    <tr>\n",
       "      <th>0</th>\n",
       "      <td>July 20, 2021</td>\n",
       "      <td>MIL</td>\n",
       "      <td>8.80</td>\n",
       "      <td>24.700000</td>\n",
       "      <td>31.000000</td>\n",
       "      <td>58.300000</td>\n",
       "      <td>18.300000</td>\n",
       "      <td>23.400000</td>\n",
       "      <td>8.400000</td>\n",
       "      <td>31.500000</td>\n",
       "      <td>23.200000</td>\n",
       "      <td>8.80</td>\n",
       "      <td>5.400000</td>\n",
       "      <td>13.800000</td>\n",
       "      <td>21.400000</td>\n",
       "      <td>PHO</td>\n",
       "      <td>9.300000</td>\n",
       "      <td>27.900000</td>\n",
       "      <td>29.100000</td>\n",
       "      <td>59.200000</td>\n",
       "      <td>17.700000</td>\n",
       "      <td>23.900000</td>\n",
       "      <td>10.300</td>\n",
       "      <td>33.900000</td>\n",
       "      <td>21.300000</td>\n",
       "      <td>6.900000</td>\n",
       "      <td>4.500</td>\n",
       "      <td>15.700000</td>\n",
       "      <td>22.00</td>\n",
       "      <td>7</td>\n",
       "    </tr>\n",
       "    <tr>\n",
       "      <th>1</th>\n",
       "      <td>July 17, 2021</td>\n",
       "      <td>PHO</td>\n",
       "      <td>7.65</td>\n",
       "      <td>26.450000</td>\n",
       "      <td>30.550000</td>\n",
       "      <td>60.100000</td>\n",
       "      <td>16.850000</td>\n",
       "      <td>21.450000</td>\n",
       "      <td>8.150000</td>\n",
       "      <td>32.450000</td>\n",
       "      <td>17.650000</td>\n",
       "      <td>8.95</td>\n",
       "      <td>4.250000</td>\n",
       "      <td>14.850000</td>\n",
       "      <td>21.500000</td>\n",
       "      <td>MIL</td>\n",
       "      <td>7.400000</td>\n",
       "      <td>25.850000</td>\n",
       "      <td>31.000000</td>\n",
       "      <td>56.650000</td>\n",
       "      <td>21.650000</td>\n",
       "      <td>26.200000</td>\n",
       "      <td>9.700</td>\n",
       "      <td>36.750000</td>\n",
       "      <td>21.600000</td>\n",
       "      <td>9.400000</td>\n",
       "      <td>5.700</td>\n",
       "      <td>15.900000</td>\n",
       "      <td>19.20</td>\n",
       "      <td>-4</td>\n",
       "    </tr>\n",
       "    <tr>\n",
       "      <th>2</th>\n",
       "      <td>July 14, 2021</td>\n",
       "      <td>MIL</td>\n",
       "      <td>9.60</td>\n",
       "      <td>26.566667</td>\n",
       "      <td>32.666667</td>\n",
       "      <td>57.433333</td>\n",
       "      <td>17.433333</td>\n",
       "      <td>23.133333</td>\n",
       "      <td>10.133333</td>\n",
       "      <td>33.166667</td>\n",
       "      <td>23.066667</td>\n",
       "      <td>8.60</td>\n",
       "      <td>4.133333</td>\n",
       "      <td>14.266667</td>\n",
       "      <td>18.466667</td>\n",
       "      <td>PHO</td>\n",
       "      <td>9.433333</td>\n",
       "      <td>23.966667</td>\n",
       "      <td>32.033333</td>\n",
       "      <td>62.733333</td>\n",
       "      <td>14.566667</td>\n",
       "      <td>17.966667</td>\n",
       "      <td>8.100</td>\n",
       "      <td>30.633333</td>\n",
       "      <td>19.433333</td>\n",
       "      <td>8.966667</td>\n",
       "      <td>4.500</td>\n",
       "      <td>12.566667</td>\n",
       "      <td>21.00</td>\n",
       "      <td>6</td>\n",
       "    </tr>\n",
       "    <tr>\n",
       "      <th>3</th>\n",
       "      <td>July 11, 2021</td>\n",
       "      <td>MIL</td>\n",
       "      <td>8.95</td>\n",
       "      <td>27.175000</td>\n",
       "      <td>32.500000</td>\n",
       "      <td>60.075000</td>\n",
       "      <td>19.075000</td>\n",
       "      <td>24.600000</td>\n",
       "      <td>11.850000</td>\n",
       "      <td>32.625000</td>\n",
       "      <td>22.800000</td>\n",
       "      <td>9.20</td>\n",
       "      <td>3.850000</td>\n",
       "      <td>11.950000</td>\n",
       "      <td>18.350000</td>\n",
       "      <td>PHO</td>\n",
       "      <td>8.825000</td>\n",
       "      <td>23.725000</td>\n",
       "      <td>32.275000</td>\n",
       "      <td>60.800000</td>\n",
       "      <td>14.925000</td>\n",
       "      <td>18.225000</td>\n",
       "      <td>7.325</td>\n",
       "      <td>31.725000</td>\n",
       "      <td>19.075000</td>\n",
       "      <td>7.475000</td>\n",
       "      <td>5.625</td>\n",
       "      <td>13.675000</td>\n",
       "      <td>21.75</td>\n",
       "      <td>20</td>\n",
       "    </tr>\n",
       "    <tr>\n",
       "      <th>4</th>\n",
       "      <td>July 8, 2021</td>\n",
       "      <td>PHO</td>\n",
       "      <td>8.86</td>\n",
       "      <td>25.180000</td>\n",
       "      <td>32.020000</td>\n",
       "      <td>59.040000</td>\n",
       "      <td>14.140000</td>\n",
       "      <td>17.780000</td>\n",
       "      <td>7.060000</td>\n",
       "      <td>31.380000</td>\n",
       "      <td>19.460000</td>\n",
       "      <td>6.58</td>\n",
       "      <td>5.100000</td>\n",
       "      <td>13.740000</td>\n",
       "      <td>22.200000</td>\n",
       "      <td>MIL</td>\n",
       "      <td>9.960000</td>\n",
       "      <td>28.940000</td>\n",
       "      <td>31.800000</td>\n",
       "      <td>58.860000</td>\n",
       "      <td>19.260000</td>\n",
       "      <td>24.880000</td>\n",
       "      <td>12.080</td>\n",
       "      <td>32.900000</td>\n",
       "      <td>23.840000</td>\n",
       "      <td>8.960000</td>\n",
       "      <td>3.480</td>\n",
       "      <td>11.360000</td>\n",
       "      <td>18.28</td>\n",
       "      <td>10</td>\n",
       "    </tr>\n",
       "  </tbody>\n",
       "</table>\n",
       "</div>"
      ],
      "text/plain": [
       "            Date H_aveTeam  H_ave3P   H_ave3PA    H_ave2P   H_ave2PA  \\\n",
       "0  July 20, 2021       MIL     8.80  24.700000  31.000000  58.300000   \n",
       "1  July 17, 2021       PHO     7.65  26.450000  30.550000  60.100000   \n",
       "2  July 14, 2021       MIL     9.60  26.566667  32.666667  57.433333   \n",
       "3  July 11, 2021       MIL     8.95  27.175000  32.500000  60.075000   \n",
       "4   July 8, 2021       PHO     8.86  25.180000  32.020000  59.040000   \n",
       "\n",
       "     H_aveFT   H_aveFTA   H_aveORB   H_aveDRB   H_aveAST  H_aveSTL  H_aveBLK  \\\n",
       "0  18.300000  23.400000   8.400000  31.500000  23.200000      8.80  5.400000   \n",
       "1  16.850000  21.450000   8.150000  32.450000  17.650000      8.95  4.250000   \n",
       "2  17.433333  23.133333  10.133333  33.166667  23.066667      8.60  4.133333   \n",
       "3  19.075000  24.600000  11.850000  32.625000  22.800000      9.20  3.850000   \n",
       "4  14.140000  17.780000   7.060000  31.380000  19.460000      6.58  5.100000   \n",
       "\n",
       "    H_aveTOV    H_avePF A_aveTeam   A_ave3P   A_ave3PA    A_ave2P   A_ave2PA  \\\n",
       "0  13.800000  21.400000       PHO  9.300000  27.900000  29.100000  59.200000   \n",
       "1  14.850000  21.500000       MIL  7.400000  25.850000  31.000000  56.650000   \n",
       "2  14.266667  18.466667       PHO  9.433333  23.966667  32.033333  62.733333   \n",
       "3  11.950000  18.350000       PHO  8.825000  23.725000  32.275000  60.800000   \n",
       "4  13.740000  22.200000       MIL  9.960000  28.940000  31.800000  58.860000   \n",
       "\n",
       "     A_aveFT   A_aveFTA  A_aveORB   A_aveDRB   A_aveAST  A_aveSTL  A_aveBLK  \\\n",
       "0  17.700000  23.900000    10.300  33.900000  21.300000  6.900000     4.500   \n",
       "1  21.650000  26.200000     9.700  36.750000  21.600000  9.400000     5.700   \n",
       "2  14.566667  17.966667     8.100  30.633333  19.433333  8.966667     4.500   \n",
       "3  14.925000  18.225000     7.325  31.725000  19.075000  7.475000     5.625   \n",
       "4  19.260000  24.880000    12.080  32.900000  23.840000  8.960000     3.480   \n",
       "\n",
       "    A_aveTOV  A_avePF  H_Dif  \n",
       "0  15.700000    22.00      7  \n",
       "1  15.900000    19.20     -4  \n",
       "2  12.566667    21.00      6  \n",
       "3  13.675000    21.75     20  \n",
       "4  11.360000    18.28     10  "
      ]
     },
     "execution_count": 7,
     "metadata": {},
     "output_type": "execute_result"
    }
   ],
   "source": [
    "data_df = pd.read_csv('../Data/data.csv')\n",
    "data_df.head()"
   ]
  },
  {
   "cell_type": "code",
   "execution_count": 8,
   "id": "c3259056",
   "metadata": {},
   "outputs": [
    {
     "data": {
      "text/plain": [
       "(3626, 30)"
      ]
     },
     "execution_count": 8,
     "metadata": {},
     "output_type": "execute_result"
    }
   ],
   "source": [
    "data_df.shape"
   ]
  },
  {
   "cell_type": "code",
   "execution_count": 17,
   "id": "59708128",
   "metadata": {},
   "outputs": [
    {
     "data": {
      "text/plain": [
       "0"
      ]
     },
     "execution_count": 17,
     "metadata": {},
     "output_type": "execute_result"
    }
   ],
   "source": [
    "# duplicate?\n",
    "data_df.index.duplicated().sum()"
   ]
  },
  {
   "cell_type": "code",
   "execution_count": 20,
   "id": "91fa6661",
   "metadata": {},
   "outputs": [
    {
     "data": {
      "text/plain": [
       "0"
      ]
     },
     "execution_count": 20,
     "metadata": {},
     "output_type": "execute_result"
    }
   ],
   "source": [
    "# Cột output có bao nhiêu giá trị thiếu?\n",
    "data_df['H_Dif'].isna().sum()"
   ]
  },
  {
   "cell_type": "markdown",
   "id": "a4b6d3b4",
   "metadata": {},
   "source": [
    "### Split data"
   ]
  },
  {
   "cell_type": "code",
   "execution_count": 28,
   "id": "8decfc82",
   "metadata": {},
   "outputs": [],
   "source": [
    "# Tách X và y\n",
    "y_sr = data_df[\"H_Dif\"] # sr là viết tắt của series\n",
    "X_df = data_df.drop(\"H_Dif\", axis=1)"
   ]
  },
  {
   "cell_type": "code",
   "execution_count": 32,
   "id": "57df3fbc",
   "metadata": {},
   "outputs": [],
   "source": [
    "# Train-Validation-Test (70%-15%-15%)\n",
    "# Split train set and remaning set (70%:30%)\n",
    "train_X_df, remain_X_df, train_y_sr, remain_y_sr = \\\n",
    "                              train_test_split(X_df, y_sr, \n",
    "                                               train_size=0.8, \n",
    "                                               random_state=0)\n",
    "\n",
    "# Split validation set and test set (50%:50%)\n",
    "valid_X_df, test_X_df, valid_X_df_y_sr, test_y_sr = \\\n",
    "                              train_test_split(remain_X_df, remain_y_sr, \n",
    "                                               test_size=0.5,\n",
    "                                               random_state=0)"
   ]
  },
  {
   "cell_type": "code",
   "execution_count": 33,
   "id": "aa6eb83a",
   "metadata": {},
   "outputs": [
    {
     "name": "stdout",
     "output_type": "stream",
     "text": [
      "(2900, 29)\n",
      "(363, 29)\n",
      "(363, 29)\n"
     ]
    }
   ],
   "source": [
    "print(train_X_df.shape)\n",
    "print(valid_X_df.shape)\n",
    "print(test_X_df.shape)"
   ]
  },
  {
   "cell_type": "markdown",
   "id": "f80c73bd",
   "metadata": {},
   "source": [
    "### Explore train data"
   ]
  },
  {
   "cell_type": "code",
   "execution_count": 35,
   "id": "0d0661f1",
   "metadata": {
    "scrolled": true
   },
   "outputs": [
    {
     "data": {
      "text/plain": [
       "Date          object\n",
       "H_aveTeam     object\n",
       "H_ave3P      float64\n",
       "H_ave3PA     float64\n",
       "H_ave2P      float64\n",
       "H_ave2PA     float64\n",
       "H_aveFT      float64\n",
       "H_aveFTA     float64\n",
       "H_aveORB     float64\n",
       "H_aveDRB     float64\n",
       "H_aveAST     float64\n",
       "H_aveSTL     float64\n",
       "H_aveBLK     float64\n",
       "H_aveTOV     float64\n",
       "H_avePF      float64\n",
       "A_aveTeam     object\n",
       "A_ave3P      float64\n",
       "A_ave3PA     float64\n",
       "A_ave2P      float64\n",
       "A_ave2PA     float64\n",
       "A_aveFT      float64\n",
       "A_aveFTA     float64\n",
       "A_aveORB     float64\n",
       "A_aveDRB     float64\n",
       "A_aveAST     float64\n",
       "A_aveSTL     float64\n",
       "A_aveBLK     float64\n",
       "A_aveTOV     float64\n",
       "A_avePF      float64\n",
       "dtype: object"
      ]
     },
     "execution_count": 35,
     "metadata": {},
     "output_type": "execute_result"
    }
   ],
   "source": [
    "train_X_df.dtypes"
   ]
  },
  {
   "cell_type": "code",
   "execution_count": null,
   "id": "e103e811",
   "metadata": {},
   "outputs": [],
   "source": []
  }
 ],
 "metadata": {
  "kernelspec": {
   "display_name": "Python 3 (ipykernel)",
   "language": "python",
   "name": "python3"
  },
  "language_info": {
   "codemirror_mode": {
    "name": "ipython",
    "version": 3
   },
   "file_extension": ".py",
   "mimetype": "text/x-python",
   "name": "python",
   "nbconvert_exporter": "python",
   "pygments_lexer": "ipython3",
   "version": "3.9.6"
  }
 },
 "nbformat": 4,
 "nbformat_minor": 5
}
