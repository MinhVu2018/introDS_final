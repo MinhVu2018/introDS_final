{
 "cells": [
  {
   "cell_type": "markdown",
   "id": "negative-irrigation",
   "metadata": {},
   "source": [
    "### Import neccessary library"
   ]
  },
  {
   "cell_type": "code",
   "execution_count": 1,
   "id": "abroad-drinking",
   "metadata": {},
   "outputs": [],
   "source": [
    "# !pip install tqdm"
   ]
  },
  {
   "cell_type": "code",
   "execution_count": 2,
   "id": "specialized-warning",
   "metadata": {},
   "outputs": [],
   "source": [
    "from bs4 import BeautifulSoup\n",
    "from selenium import webdriver\n",
    "import chromedriver_binary\n",
    "from selenium.webdriver.common.action_chains import ActionChains\n",
    "import pandas as pd\n",
    "from tqdm import tqdm\n",
    "\n",
    "\n",
    "opts = webdriver.ChromeOptions()\n",
    "opts.headless = True\n",
    "browser = webdriver.Chrome(options=opts)\n",
    "browser.maximize_window()\n",
    "df = pd.DataFrame()"
   ]
  },
  {
   "cell_type": "markdown",
   "id": "sufficient-horror",
   "metadata": {},
   "source": [
    "### Get URL to every match in a month"
   ]
  },
  {
   "cell_type": "code",
   "execution_count": 3,
   "id": "cross-victorian",
   "metadata": {},
   "outputs": [],
   "source": [
    "def get_html(url):\n",
    "    browser.get(url)\n",
    "    \n",
    "    btns = browser.find_elements_by_xpath('//*[@data-stat=\"box_score_text\"]')\n",
    "    btns = [b for b in btns if b.text != ' ']\n",
    "    links = [b.find_elements_by_xpath('.//*')[0].get_attribute('href') for b in btns]\n",
    "    \n",
    "    html_text = browser.page_source\n",
    "    \n",
    "    tree = BeautifulSoup(html_text, 'html.parser')\n",
    "    return links, tree"
   ]
  },
  {
   "cell_type": "markdown",
   "id": "collaborative-trading",
   "metadata": {},
   "source": [
    "### Get column-names and description"
   ]
  },
  {
   "cell_type": "code",
   "execution_count": 4,
   "id": "documented-science",
   "metadata": {},
   "outputs": [],
   "source": [
    "def get_info(url):\n",
    "    browser.get(url)\n",
    "\n",
    "    team = browser.find_element_by_id('line_score')\\\n",
    "                .find_element_by_tag_name('a').text\n",
    "\n",
    "    table = browser.find_element_by_id(f'box-{team}-game-basic')\n",
    "    \n",
    "    header = table.find_element_by_tag_name('thead')\n",
    "    col_tags = header.find_elements_by_tag_name('th')\n",
    "    datetime = ['Date', 'Time']\n",
    "    \n",
    "    # create cols\n",
    "    sign = ['A_', 'H_']\n",
    "    cols = ['Name'] + [c.text for c in col_tags][3:]\n",
    "    tmp = [[sign[i] + c for c in cols] for i in range(2)]\n",
    "    col_table = datetime + tmp[0] + tmp[1]\n",
    "    \n",
    "    \n",
    "    # create descriptions\n",
    "    sign_description = ['Away ', 'Home ']\n",
    "    desc = ['Team'] + [c.get_attribute(\"data-tip\") \n",
    "                                    for c in col_tags][3:]\n",
    "    \n",
    "    tmp = [[sign_description[i] + d for d in desc] for i in range(2)]\n",
    "    description = datetime + tmp[0] + tmp[1]\n",
    "    \n",
    "    with open('description.txt', 'w') as f:\n",
    "        for c, d in zip(col_table, description):\n",
    "            f.write(c + ' : ' + d + '\\n')\n",
    "            \n",
    "    return col_table"
   ]
  },
  {
   "cell_type": "markdown",
   "id": "compound-crowd",
   "metadata": {},
   "source": [
    "### Get Data from every match"
   ]
  },
  {
   "cell_type": "code",
   "execution_count": 5,
   "id": "departmental-coordination",
   "metadata": {},
   "outputs": [],
   "source": [
    "def get_data(url):\n",
    "    browser.get(url)\n",
    "    \n",
    "    datetime = browser.find_element_by_class_name('scorebox_meta')\\\n",
    "                        .find_element_by_tag_name('div').text\n",
    "    time, date = datetime.split(', ', 1)\n",
    "    \n",
    "    \n",
    "    tmp = browser.find_element_by_id('line_score')\\\n",
    "                .find_elements_by_tag_name('a')\n",
    "    teams = [t.text for t in tmp]\n",
    "\n",
    "    tables = [browser.find_element_by_id(f'box-{t}-game-basic') \n",
    "                                for t in teams]\n",
    "    data_table = [date, time]\n",
    "    for i, t in enumerate(tables):\n",
    "        footer = t.find_element_by_tag_name('tfoot')\n",
    "        data_tags = footer.find_elements_by_tag_name('td')\n",
    "        data = [teams[i]] + [d.text for d in data_tags]\n",
    "        data_table += data\n",
    "    \n",
    "    \n",
    "    return data_table"
   ]
  },
  {
   "cell_type": "markdown",
   "id": "favorite-court",
   "metadata": {},
   "source": [
    "### Main "
   ]
  },
  {
   "cell_type": "code",
   "execution_count": 6,
   "id": "enhanced-context",
   "metadata": {},
   "outputs": [
    {
     "name": "stdout",
     "output_type": "stream",
     "text": [
      "2019\n"
     ]
    },
    {
     "name": "stderr",
     "output_type": "stream",
     "text": [
      "Processing October: 100%|████████████████████████████████████████████████████████████| 110/110 [07:14<00:00,  3.95s/it]\n",
      "Processing November: 100%|███████████████████████████████████████████████████████████| 219/219 [15:03<00:00,  4.12s/it]\n",
      "Processing December: 100%|███████████████████████████████████████████████████████████| 219/219 [12:31<00:00,  3.43s/it]\n",
      "Processing January: 100%|████████████████████████████████████████████████████████████| 221/221 [18:07<00:00,  4.92s/it]\n",
      "Processing February: 100%|███████████████████████████████████████████████████████████| 158/158 [11:44<00:00,  4.46s/it]\n",
      "Processing March: 100%|██████████████████████████████████████████████████████████████| 224/224 [16:52<00:00,  4.52s/it]\n",
      "Processing April: 100%|██████████████████████████████████████████████████████████████| 127/127 [13:07<00:00,  6.20s/it]\n",
      "Processing May: 100%|██████████████████████████████████████████████████████████████████| 29/29 [01:37<00:00,  3.36s/it]\n",
      "Processing June: 100%|███████████████████████████████████████████████████████████████████| 5/5 [00:09<00:00,  1.84s/it]\n"
     ]
    }
   ],
   "source": [
    "main_url = 'https://www.basketball-reference.com'\n",
    "years = [2019, 2020, 2021]\n",
    "cols = []\n",
    "for year in years:\n",
    "    print(year)\n",
    "    year_url = f'/leagues/NBA_{year}_games.html'\n",
    "    urls, tree = get_html(main_url + year_url)\n",
    "\n",
    "    filter = tree.find('div', class_=['filter'])\n",
    "\n",
    "    for i, tag in enumerate(filter.find_all('a')):\n",
    "        if i: # first link same with main page // no need to get html\n",
    "            link = main_url + tag['href']\n",
    "            urls, tree = get_html(link)\n",
    "            \n",
    "        with tqdm(urls) as pbar:\n",
    "            pbar.set_description(\"Processing %s\" % tag.text)\n",
    "            for link in pbar:\n",
    "                if not cols:\n",
    "                    cols = get_info(link)\n",
    "                    df = pd.DataFrame(columns=cols)\n",
    "\n",
    "                df = df.append(pd.DataFrame([get_data(link)], columns=cols),\n",
    "                               ignore_index = True)\n",
    "    break"
   ]
  },
  {
   "cell_type": "code",
   "execution_count": 7,
   "id": "junior-secretariat",
   "metadata": {},
   "outputs": [
    {
     "data": {
      "text/plain": [
       "(1312, 44)"
      ]
     },
     "execution_count": 7,
     "metadata": {},
     "output_type": "execute_result"
    }
   ],
   "source": [
    "df.shape"
   ]
  },
  {
   "cell_type": "code",
   "execution_count": 8,
   "id": "decreased-wiring",
   "metadata": {},
   "outputs": [],
   "source": [
    "df.to_csv('data.csv', mode = 'a', header=False, index=False)"
   ]
  }
 ],
 "metadata": {
  "kernelspec": {
   "display_name": "Python 3",
   "language": "python",
   "name": "python3"
  },
  "language_info": {
   "codemirror_mode": {
    "name": "ipython",
    "version": 3
   },
   "file_extension": ".py",
   "mimetype": "text/x-python",
   "name": "python",
   "nbconvert_exporter": "python",
   "pygments_lexer": "ipython3",
   "version": "3.7.8"
  }
 },
 "nbformat": 4,
 "nbformat_minor": 5
}
