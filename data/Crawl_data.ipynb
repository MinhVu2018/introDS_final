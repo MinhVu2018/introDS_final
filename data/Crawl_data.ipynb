{
 "cells": [
  {
   "cell_type": "markdown",
   "id": "8b1e18ea",
   "metadata": {},
   "source": [
    "### Import neccessary library"
   ]
  },
  {
   "cell_type": "code",
   "execution_count": 1,
   "id": "451301a9",
   "metadata": {},
   "outputs": [
    {
     "name": "stdout",
     "output_type": "stream",
     "text": [
      "Requirement already satisfied: tqdm in c:\\users\\mvc\\appdata\\local\\programs\\python\\python39\\lib\\site-packages (4.62.2)\n",
      "Requirement already satisfied: colorama in c:\\users\\mvc\\appdata\\local\\programs\\python\\python39\\lib\\site-packages (from tqdm) (0.4.4)\n"
     ]
    }
   ],
   "source": [
    "!pip install tqdm"
   ]
  },
  {
   "cell_type": "code",
   "execution_count": 2,
   "id": "84aad183",
   "metadata": {},
   "outputs": [],
   "source": [
    "from bs4 import BeautifulSoup\n",
    "from selenium import webdriver\n",
    "import chromedriver_binary\n",
    "from selenium.webdriver.common.action_chains import ActionChains\n",
    "import pandas as pd\n",
    "from tqdm import tqdm\n",
    "import requests\n",
    "\n",
    "opts = webdriver.ChromeOptions()\n",
    "opts.headless = True\n",
    "browser = webdriver.Chrome(options=opts)\n",
    "browser.maximize_window()\n",
    "df = pd.DataFrame()"
   ]
  },
  {
   "cell_type": "markdown",
   "id": "ffd2db3a",
   "metadata": {},
   "source": [
    "### Get statistics of all NBA teams from last season"
   ]
  },
  {
   "cell_type": "code",
   "execution_count": 3,
   "id": "887c8a18",
   "metadata": {},
   "outputs": [],
   "source": [
    "def get_old_stat(year):\n",
    "    url = f'https://www.basketball-reference.com/leagues/NBA_{year - 1}.html'\n",
    "    page = requests.get(url)\n",
    "\n",
    "    soup = BeautifulSoup(page.content, 'html.parser')\n",
    "\n",
    "    tbl = soup.find(\"table\",{\"id\":\"per_game-team\"})\n",
    "\n",
    "    df = pd.read_html(str(tbl))[0]\n",
    "    df['Team'] = df['Team'].str.replace('*', '', regex=False)\n",
    "    df.drop(df.tail(1).index, inplace=True)\n",
    "    df.to_csv('preseason_data.csv', header=True, index=False)\n",
    "    \n",
    "    with open('full_name.txt', 'w') as f:\n",
    "        for i, link in enumerate(tbl.find_all('a')):\n",
    "            short = link.get('href').split('/')[2]\n",
    "            f.write(short + ', ' + df['Team'][i] + '\\n')"
   ]
  },
  {
   "cell_type": "markdown",
   "id": "1402a076",
   "metadata": {},
   "source": [
    "### Get NBA Team Elo"
   ]
  },
  {
   "cell_type": "code",
   "execution_count": 4,
   "id": "5cfcfdd8",
   "metadata": {},
   "outputs": [],
   "source": [
    "def get_elo(year):\n",
    "    url = f'https://projects.fivethirtyeight.com/{year - 1}-nba-predictions/'\n",
    "    if year == 2017:\n",
    "        url = 'https://projects.fivethirtyeight.com/2016-nba-picks/'\n",
    "    browser.get(url)\n",
    "    \n",
    "    name = 'teams-table' if year == 2017 else \"standings-table\"\n",
    "    \n",
    "    table = browser.find_element_by_id(name)\n",
    "    \n",
    "    body = table.find_element_by_tag_name('tbody')\n",
    "    rows = body.find_elements_by_tag_name('tr')\n",
    "    team_names = [r.find_element_by_class_name('team').text for r in rows]\n",
    "\n",
    "    dict_name = {}\n",
    "    with open('full_name.txt', 'r') as f:\n",
    "        for line in f:\n",
    "            name = line.split(',') # [short_name, full_name]\n",
    "            dict_name[name[0]] = name[1].strip()\n",
    "\n",
    "    for i, n in enumerate(team_names):        \n",
    "        for k in dict_name.keys():\n",
    "            if n in dict_name[k]:\n",
    "                team_names[i] = k\n",
    "                break\n",
    "            \n",
    "    with tqdm(rows) as pbar:\n",
    "        pbar.set_description(\"Get Elo\")        \n",
    "        team_elos = [r.find_element_by_tag_name('td').text for r in pbar]\n",
    "        \n",
    "    with open('preseason_elo.csv', 'w') as f:\n",
    "        f.write('Name, Elo\\n')\n",
    "        for n, e in zip(team_names, team_elos):\n",
    "            f.write(n + ', ' + e + '\\n')"
   ]
  },
  {
   "cell_type": "markdown",
   "id": "b12e8d0e",
   "metadata": {},
   "source": [
    "### Get colum descriptions"
   ]
  },
  {
   "cell_type": "code",
   "execution_count": 5,
   "id": "14db38ae",
   "metadata": {},
   "outputs": [],
   "source": [
    "def get_description(year):\n",
    "    url = f'https://www.basketball-reference.com/leagues/NBA_{year - 1}.html'\n",
    "    browser.get(url)\n",
    "    \n",
    "    table = browser.find_element_by_id('per_game-team')\n",
    "    header = table.find_element_by_tag_name('thead')\n",
    "    col_tags = header.find_elements_by_tag_name('th')\n",
    "    date = ['Date']\n",
    "    \n",
    "    # create cols\n",
    "    sign = ['H_', 'A_']\n",
    "    cols = [c.text for c in col_tags]\n",
    "    tmp = [[sign[i] + c for c in cols] for i in range(2)]\n",
    "    col_table = date + tmp[0] + tmp[1]\n",
    "    \n",
    "    # create descriptions\n",
    "    sign_description = ['Home ', 'Away ']\n",
    "    with tqdm(col_tags) as pbar:\n",
    "        pbar.set_description(\"Get Description\")\n",
    "        desc = [c.get_attribute(\"data-tip\") \n",
    "                                    for c in pbar]\n",
    "    # Team description missing\n",
    "    desc[1] = 'Team'\n",
    "    \n",
    "    tmp = [[sign_description[i] + d for d in desc] for i in range(2)]\n",
    "    description = date + tmp[0] + tmp[1]\n",
    "    \n",
    "    with open('raw_description.txt', 'w') as f:\n",
    "        for c, d in zip(col_table, description):\n",
    "            f.write(c + ' : ' + d + '\\n')"
   ]
  },
  {
   "cell_type": "markdown",
   "id": "d4adbfba",
   "metadata": {},
   "source": [
    "### Get URL to every match in a month"
   ]
  },
  {
   "cell_type": "code",
   "execution_count": 5,
   "id": "d01ed9b8",
   "metadata": {},
   "outputs": [],
   "source": [
    "def get_html(url):\n",
    "    browser.get(url)\n",
    "    \n",
    "    btns = browser.find_elements_by_xpath('//*[@data-stat=\"box_score_text\"]')\n",
    "    btns = [b for b in btns if b.text != ' ']\n",
    "    links = [b.find_elements_by_xpath('.//*')[0].get_attribute('href') for b in btns]\n",
    "    \n",
    "    html_text = browser.page_source\n",
    "    \n",
    "    tree = BeautifulSoup(html_text, 'html.parser')\n",
    "    return links, tree"
   ]
  },
  {
   "cell_type": "markdown",
   "id": "d9888601",
   "metadata": {},
   "source": [
    "### Get column names"
   ]
  },
  {
   "cell_type": "code",
   "execution_count": 7,
   "id": "59b8530a",
   "metadata": {},
   "outputs": [],
   "source": [
    "def get_info(url):\n",
    "    browser.get(url)\n",
    "\n",
    "    team = browser.find_element_by_id('line_score')\\\n",
    "                .find_element_by_tag_name('a').text\n",
    "\n",
    "    table = browser.find_element_by_id(f'box-{team}-game-basic')\n",
    "    \n",
    "    header = table.find_element_by_tag_name('thead')\n",
    "    col_tags = header.find_elements_by_tag_name('th')\n",
    "    date = ['Date']\n",
    "    \n",
    "    # create cols\n",
    "    sign = ['H_', 'A_']\n",
    "    cols = ['Team'] + [c.text for c in col_tags][3:]\n",
    "    tmp = [[sign[i] + c for c in cols] for i in range(2)]\n",
    "    col_table = date + tmp[0] + tmp[1]\n",
    "            \n",
    "    return col_table"
   ]
  },
  {
   "cell_type": "markdown",
   "id": "dc16beb9",
   "metadata": {},
   "source": [
    "### Get Data from every match"
   ]
  },
  {
   "cell_type": "code",
   "execution_count": 8,
   "id": "70f3d882",
   "metadata": {},
   "outputs": [],
   "source": [
    "def get_data(url):\n",
    "    browser.get(url)\n",
    "    \n",
    "    datetime = browser.find_element_by_class_name('scorebox_meta')\\\n",
    "                        .find_element_by_tag_name('div').text\n",
    "    time, date = datetime.split(', ', 1)\n",
    "    \n",
    "    \n",
    "    tmp = browser.find_element_by_id('line_score')\\\n",
    "                .find_elements_by_tag_name('a')\n",
    "    teams = [t.text for t in tmp][::-1] # reverse() // home first\n",
    "\n",
    "    tables = [browser.find_element_by_id(f'box-{t}-game-basic') \n",
    "                                for t in teams]\n",
    "    data_table = [date]\n",
    "    for i, t in enumerate(tables):\n",
    "        footer = t.find_element_by_tag_name('tfoot')\n",
    "        data_tags = footer.find_elements_by_tag_name('td')\n",
    "        data = [teams[i]] + [d.text for d in data_tags]\n",
    "        data_table += data\n",
    "    \n",
    "    \n",
    "    return data_table"
   ]
  },
  {
   "cell_type": "markdown",
   "id": "7024c099",
   "metadata": {},
   "source": [
    "### Main "
   ]
  },
  {
   "cell_type": "code",
   "execution_count": 9,
   "id": "5eb2d7c3",
   "metadata": {},
   "outputs": [
    {
     "name": "stderr",
     "output_type": "stream",
     "text": [
      "Get Elo: 100%|█████████████████████████████████████████████████████████████████████████| 30/30 [00:00<00:00, 60.34it/s]\n",
      "Get Description: 100%|████████████████████████████████████████████████████████████████| 25/25 [00:00<00:00, 216.08it/s]\n"
     ]
    },
    {
     "name": "stdout",
     "output_type": "stream",
     "text": [
      "2017\n"
     ]
    },
    {
     "name": "stderr",
     "output_type": "stream",
     "text": [
      "Processing October: 100%|██████████████████████████████████████████████████████████████| 45/45 [01:06<00:00,  1.48s/it]\n",
      "Processing November: 100%|███████████████████████████████████████████████████████████| 229/229 [05:56<00:00,  1.56s/it]\n",
      "Processing December: 100%|███████████████████████████████████████████████████████████| 232/232 [06:08<00:00,  1.59s/it]\n",
      "Processing January: 100%|████████████████████████████████████████████████████████████| 223/223 [05:39<00:00,  1.52s/it]\n",
      "Processing February: 100%|███████████████████████████████████████████████████████████| 165/165 [04:10<00:00,  1.52s/it]\n",
      "Processing March: 100%|██████████████████████████████████████████████████████████████| 241/241 [06:29<00:00,  1.62s/it]\n",
      "Processing April: 100%|██████████████████████████████████████████████████████████████| 140/140 [03:37<00:00,  1.56s/it]\n",
      "Processing May: 100%|██████████████████████████████████████████████████████████████████| 29/29 [00:44<00:00,  1.53s/it]\n",
      "Processing June: 100%|███████████████████████████████████████████████████████████████████| 5/5 [00:08<00:00,  1.69s/it]\n"
     ]
    },
    {
     "name": "stdout",
     "output_type": "stream",
     "text": [
      "2018\n"
     ]
    },
    {
     "name": "stderr",
     "output_type": "stream",
     "text": [
      "Processing October: 100%|████████████████████████████████████████████████████████████| 104/104 [03:30<00:00,  2.03s/it]\n",
      "Processing November: 100%|███████████████████████████████████████████████████████████| 213/213 [06:58<00:00,  1.97s/it]\n",
      "Processing December: 100%|███████████████████████████████████████████████████████████| 227/227 [07:34<00:00,  2.00s/it]\n",
      "Processing January: 100%|████████████████████████████████████████████████████████████| 216/216 [07:10<00:00,  1.99s/it]\n",
      "Processing February: 100%|███████████████████████████████████████████████████████████| 160/160 [05:21<00:00,  2.01s/it]\n",
      "Processing March: 100%|██████████████████████████████████████████████████████████████| 222/222 [08:04<00:00,  2.18s/it]\n",
      "Processing April: 100%|██████████████████████████████████████████████████████████████| 136/136 [05:10<00:00,  2.28s/it]\n",
      "Processing May: 100%|██████████████████████████████████████████████████████████████████| 31/31 [01:09<00:00,  2.23s/it]\n",
      "Processing June: 100%|███████████████████████████████████████████████████████████████████| 3/3 [00:07<00:00,  2.39s/it]\n"
     ]
    },
    {
     "name": "stdout",
     "output_type": "stream",
     "text": [
      "2019\n"
     ]
    },
    {
     "name": "stderr",
     "output_type": "stream",
     "text": [
      "Processing October: 100%|████████████████████████████████████████████████████████████| 110/110 [04:15<00:00,  2.33s/it]\n",
      "Processing November: 100%|███████████████████████████████████████████████████████████| 219/219 [08:25<00:00,  2.31s/it]\n",
      "Processing December: 100%|███████████████████████████████████████████████████████████| 219/219 [08:10<00:00,  2.24s/it]\n",
      "Processing January: 100%|████████████████████████████████████████████████████████████| 221/221 [08:16<00:00,  2.25s/it]\n",
      "Processing February: 100%|███████████████████████████████████████████████████████████| 158/158 [06:04<00:00,  2.31s/it]\n",
      "Processing March: 100%|██████████████████████████████████████████████████████████████| 224/224 [08:37<00:00,  2.31s/it]\n",
      "Processing April: 100%|██████████████████████████████████████████████████████████████| 127/127 [04:51<00:00,  2.30s/it]\n",
      "Processing May: 100%|██████████████████████████████████████████████████████████████████| 29/29 [01:04<00:00,  2.24s/it]\n",
      "Processing June: 100%|███████████████████████████████████████████████████████████████████| 5/5 [00:12<00:00,  2.41s/it]\n"
     ]
    },
    {
     "name": "stdout",
     "output_type": "stream",
     "text": [
      "2020\n"
     ]
    },
    {
     "name": "stderr",
     "output_type": "stream",
     "text": [
      "Processing October 2019: 100%|█████████████████████████████████████████████████████████| 68/68 [02:39<00:00,  2.35s/it]\n",
      "Processing November: 100%|███████████████████████████████████████████████████████████| 215/215 [08:23<00:00,  2.34s/it]\n",
      "Processing December: 100%|███████████████████████████████████████████████████████████| 220/220 [08:32<00:00,  2.33s/it]\n",
      "Processing January: 100%|████████████████████████████████████████████████████████████| 222/222 [08:38<00:00,  2.34s/it]\n",
      "Processing February: 100%|███████████████████████████████████████████████████████████| 168/168 [06:24<00:00,  2.29s/it]\n",
      "Processing March: 100%|████████████████████████████████████████████████████████████████| 78/78 [02:57<00:00,  2.28s/it]\n",
      "Processing July: 100%|███████████████████████████████████████████████████████████████████| 8/8 [00:18<00:00,  2.28s/it]\n",
      "Processing August: 100%|█████████████████████████████████████████████████████████████| 123/123 [04:45<00:00,  2.32s/it]\n",
      "Processing September: 100%|████████████████████████████████████████████████████████████| 36/36 [01:22<00:00,  2.30s/it]\n",
      "Processing October 2020: 100%|███████████████████████████████████████████████████████████| 5/5 [00:10<00:00,  2.11s/it]\n"
     ]
    },
    {
     "name": "stdout",
     "output_type": "stream",
     "text": [
      "2021\n"
     ]
    },
    {
     "name": "stderr",
     "output_type": "stream",
     "text": [
      "Processing December: 100%|█████████████████████████████████████████████████████████████| 67/67 [02:42<00:00,  2.43s/it]\n",
      "Processing January: 100%|████████████████████████████████████████████████████████████| 222/222 [08:40<00:00,  2.35s/it]\n",
      "Processing February: 100%|███████████████████████████████████████████████████████████| 212/212 [08:11<00:00,  2.32s/it]\n",
      "Processing March: 100%|██████████████████████████████████████████████████████████████| 204/204 [07:55<00:00,  2.33s/it]\n",
      "Processing April: 100%|██████████████████████████████████████████████████████████████| 240/240 [09:23<00:00,  2.35s/it]\n",
      "Processing May: 100%|████████████████████████████████████████████████████████████████| 173/173 [06:33<00:00,  2.27s/it]\n",
      "Processing June: 100%|█████████████████████████████████████████████████████████████████| 45/45 [01:41<00:00,  2.25s/it]\n",
      "Processing July: 100%|███████████████████████████████████████████████████████████████████| 8/8 [00:17<00:00,  2.17s/it]\n"
     ]
    }
   ],
   "source": [
    "main_url = 'https://www.basketball-reference.com'\n",
    "cur_year = 2021\n",
    "n = 5\n",
    "years = [cur_year - i for i in range(n - 1, -1, -1)]\n",
    "\n",
    "cols = []\n",
    "\n",
    "get_elo(years[0])\n",
    "get_old_stat(years[0])\n",
    "get_description(years[0])\n",
    "\n",
    "for year in years:\n",
    "    print(year)\n",
    "    year_url = f'/leagues/NBA_{year}_games.html'\n",
    "    urls, tree = get_html(main_url + year_url)\n",
    "\n",
    "    filter = tree.find('div', class_=['filter'])\n",
    "\n",
    "    for i, tag in enumerate(filter.find_all('a')):\n",
    "        if i: # first link same with main page // no need to get html\n",
    "            link = main_url + tag['href']\n",
    "            urls, tree = get_html(link)\n",
    "            \n",
    "        with tqdm(urls) as pbar:\n",
    "            pbar.set_description(\"Processing %s\" % tag.text)\n",
    "            for link in pbar:\n",
    "                if not cols:\n",
    "                    cols = get_info(link)\n",
    "                    df = pd.DataFrame(columns=cols)\n",
    "\n",
    "                df = df.append(pd.DataFrame([get_data(link)], columns=cols),\n",
    "                               ignore_index = True)\n"
   ]
  },
  {
   "cell_type": "code",
   "execution_count": 10,
   "id": "2aac67f3",
   "metadata": {},
   "outputs": [
    {
     "data": {
      "text/plain": [
       "(6247, 43)"
      ]
     },
     "execution_count": 10,
     "metadata": {},
     "output_type": "execute_result"
    }
   ],
   "source": [
    "df.shape"
   ]
  },
  {
   "cell_type": "code",
   "execution_count": 11,
   "id": "ec17d093",
   "metadata": {},
   "outputs": [],
   "source": [
    "df = df.iloc[::-1] # reverse dataframe // from lastest -> oldest\n",
    "df.head()\n",
    "df.to_csv('raw_data.csv', index=False)"
   ]
  },
  {
   "cell_type": "code",
   "execution_count": null,
   "id": "bcc790fd",
   "metadata": {},
   "outputs": [],
   "source": [
    "browser.quit()"
   ]
  }
 ],
 "metadata": {
  "kernelspec": {
   "display_name": "Python 3 (ipykernel)",
   "language": "python",
   "name": "python3"
  },
  "language_info": {
   "codemirror_mode": {
    "name": "ipython",
    "version": 3
   },
   "file_extension": ".py",
   "mimetype": "text/x-python",
   "name": "python",
   "nbconvert_exporter": "python",
   "pygments_lexer": "ipython3",
   "version": "3.9.6"
  }
 },
 "nbformat": 4,
 "nbformat_minor": 5
}
