{
 "cells": [
  {
   "cell_type": "markdown",
   "id": "negative-irrigation",
   "metadata": {},
   "source": [
    "### Import neccessary library"
   ]
  },
  {
   "cell_type": "code",
   "execution_count": 1,
   "id": "abroad-drinking",
   "metadata": {},
   "outputs": [],
   "source": [
    "# !pip install tqdm"
   ]
  },
  {
   "cell_type": "code",
   "execution_count": 3,
   "id": "specialized-warning",
   "metadata": {},
   "outputs": [],
   "source": [
    "from bs4 import BeautifulSoup\n",
    "from selenium import webdriver\n",
    "import chromedriver_binary\n",
    "from selenium.webdriver.common.action_chains import ActionChains\n",
    "import pandas as pd\n",
    "from tqdm import tqdm\n",
    "import requests\n",
    "\n",
    "\n",
    "opts = webdriver.ChromeOptions()\n",
    "opts.headless = True\n",
    "browser = webdriver.Chrome(options=opts)\n",
    "browser.maximize_window()\n",
    "df = pd.DataFrame()"
   ]
  },
  {
   "cell_type": "markdown",
   "id": "unusual-phoenix",
   "metadata": {},
   "source": [
    "### Get NBA Team Elo"
   ]
  },
  {
   "cell_type": "code",
   "execution_count": 4,
   "id": "compact-adelaide",
   "metadata": {},
   "outputs": [],
   "source": [
    "def get_elo(year):\n",
    "    url = f'https://projects.fivethirtyeight.com/{year}-nba-predictions'\n",
    "    browser.get(url)\n",
    "    \n",
    "    body = browser.find_element_by_tag_name('tbody')\n",
    "    teams = body.find_elements_by_tag_name('tr')\n",
    "    team_names = [t.get_attribute(\"data-team\") for t in teams]\n",
    "    \n",
    "    #fill-in missing character\n",
    "    for i, t in enumerate(teams):\n",
    "        if len(team_names[i]) < 3:\n",
    "            # missing character\n",
    "            c = t.find_element_by_tag_name('a').text[0]\n",
    "            team_names[i] += c\n",
    "            \n",
    "    with tqdm(teams) as pbar:\n",
    "        pbar.set_description(\"Get Elo\")        \n",
    "        team_elos = [t.find_element_by_tag_name('td').text\n",
    "                                         for t in pbar]\n",
    "            \n",
    "    with open('preseason_elo.csv', 'w') as f:\n",
    "        f.write('Name, Elo\\n')\n",
    "        for n, e in zip(team_names, team_elos):\n",
    "            f.write(n + ', ' + e + '\\n')"
   ]
  },
  {
   "cell_type": "markdown",
   "id": "other-workplace",
   "metadata": {},
   "source": [
    "### Get statistics of all NBA teams from last season"
   ]
  },
  {
   "cell_type": "code",
   "execution_count": 7,
   "id": "demanding-folks",
   "metadata": {},
   "outputs": [],
   "source": [
    "def get_old_stat(year):\n",
    "    url = f'https://www.basketball-reference.com/leagues/NBA_{year - 1}.html'\n",
    "    page = requests.get(url)\n",
    "\n",
    "    soup = BeautifulSoup(page.content, 'html.parser')\n",
    "\n",
    "    tbl = soup.find(\"table\",{\"id\":\"per_game-team\"})\n",
    "\n",
    "    df = pd.read_html(str(tbl))[0]\n",
    "    df['Team'] = df['Team'].str.replace('*', '', regex=False)\n",
    "    df.drop(df.tail(1).index, inplace=True)\n",
    "    df.to_csv('preseason_data.csv', header=True, index=False)\n",
    "    \n",
    "    with open('full_name.txt', 'w') as f:\n",
    "        for i, link in enumerate(tbl.find_all('a')):\n",
    "            short = link.get('href').split('/')[2]\n",
    "            f.write(short + ', ' + df['Team'][i] + '\\n')"
   ]
  },
  {
   "cell_type": "markdown",
   "id": "technological-nightmare",
   "metadata": {},
   "source": [
    "### Get colum descriptions"
   ]
  },
  {
   "cell_type": "code",
   "execution_count": 6,
   "id": "afraid-serbia",
   "metadata": {},
   "outputs": [],
   "source": [
    "def get_description(year):\n",
    "    url = f'https://www.basketball-reference.com/leagues/NBA_{year - 1}.html'\n",
    "    browser.get(url)\n",
    "    \n",
    "    table = browser.find_element_by_id('per_game-team')\n",
    "    header = table.find_element_by_tag_name('thead')\n",
    "    col_tags = header.find_elements_by_tag_name('th')\n",
    "    date = ['Date']\n",
    "    \n",
    "    # create cols\n",
    "    sign = ['H_', 'A_']\n",
    "    cols = [c.text for c in col_tags]\n",
    "    tmp = [[sign[i] + c for c in cols] for i in range(2)]\n",
    "    col_table = date + tmp[0] + tmp[1]\n",
    "    \n",
    "    # create descriptions\n",
    "    sign_description = ['Home ', 'Away ']\n",
    "    with tqdm(col_tags) as pbar:\n",
    "        pbar.set_description(\"Get Description\")\n",
    "        desc = [c.get_attribute(\"data-tip\") \n",
    "                                    for c in pbar]\n",
    "    # Team description missing\n",
    "    desc[1] = 'Team'\n",
    "    \n",
    "    tmp = [[sign_description[i] + d for d in desc] for i in range(2)]\n",
    "    description = date + tmp[0] + tmp[1]\n",
    "    \n",
    "    with open('raw_description.txt', 'w') as f:\n",
    "        for c, d in zip(col_table, description):\n",
    "            f.write(c + ' : ' + d + '\\n')"
   ]
  },
  {
   "cell_type": "markdown",
   "id": "sufficient-horror",
   "metadata": {},
   "source": [
    "### Get URL to every match in a month"
   ]
  },
  {
   "cell_type": "code",
   "execution_count": 7,
   "id": "cross-victorian",
   "metadata": {},
   "outputs": [],
   "source": [
    "def get_html(url):\n",
    "    browser.get(url)\n",
    "    \n",
    "    btns = browser.find_elements_by_xpath('//*[@data-stat=\"box_score_text\"]')\n",
    "    btns = [b for b in btns if b.text != ' ']\n",
    "    links = [b.find_elements_by_xpath('.//*')[0].get_attribute('href') for b in btns]\n",
    "    \n",
    "    html_text = browser.page_source\n",
    "    \n",
    "    tree = BeautifulSoup(html_text, 'html.parser')\n",
    "    return links, tree"
   ]
  },
  {
   "cell_type": "markdown",
   "id": "collaborative-trading",
   "metadata": {},
   "source": [
    "### Get column names"
   ]
  },
  {
   "cell_type": "code",
   "execution_count": 8,
   "id": "documented-science",
   "metadata": {},
   "outputs": [],
   "source": [
    "def get_info(url):\n",
    "    browser.get(url)\n",
    "\n",
    "    team = browser.find_element_by_id('line_score')\\\n",
    "                .find_element_by_tag_name('a').text\n",
    "\n",
    "    table = browser.find_element_by_id(f'box-{team}-game-basic')\n",
    "    \n",
    "    header = table.find_element_by_tag_name('thead')\n",
    "    col_tags = header.find_elements_by_tag_name('th')\n",
    "    date = ['Date']\n",
    "    \n",
    "    # create cols\n",
    "    sign = ['H_', 'A_']\n",
    "    cols = ['Team'] + [c.text for c in col_tags][3:]\n",
    "    tmp = [[sign[i] + c for c in cols] for i in range(2)]\n",
    "    col_table = date + tmp[0] + tmp[1]\n",
    "            \n",
    "    return col_table"
   ]
  },
  {
   "cell_type": "markdown",
   "id": "compound-crowd",
   "metadata": {},
   "source": [
    "### Get Data from every match"
   ]
  },
  {
   "cell_type": "code",
   "execution_count": 9,
   "id": "departmental-coordination",
   "metadata": {},
   "outputs": [],
   "source": [
    "def get_data(url):\n",
    "    browser.get(url)\n",
    "    \n",
    "    datetime = browser.find_element_by_class_name('scorebox_meta')\\\n",
    "                        .find_element_by_tag_name('div').text\n",
    "    time, date = datetime.split(', ', 1)\n",
    "    \n",
    "    \n",
    "    tmp = browser.find_element_by_id('line_score')\\\n",
    "                .find_elements_by_tag_name('a')\n",
    "    teams = [t.text for t in tmp][::-1] # reverse() // home first\n",
    "\n",
    "    tables = [browser.find_element_by_id(f'box-{t}-game-basic') \n",
    "                                for t in teams]\n",
    "    data_table = [date]\n",
    "    for i, t in enumerate(tables):\n",
    "        footer = t.find_element_by_tag_name('tfoot')\n",
    "        data_tags = footer.find_elements_by_tag_name('td')\n",
    "        data = [teams[i]] + [d.text for d in data_tags]\n",
    "        data_table += data\n",
    "    \n",
    "    \n",
    "    return data_table"
   ]
  },
  {
   "cell_type": "markdown",
   "id": "favorite-court",
   "metadata": {},
   "source": [
    "### Main "
   ]
  },
  {
   "cell_type": "code",
   "execution_count": 10,
   "id": "enhanced-context",
   "metadata": {},
   "outputs": [
    {
     "name": "stderr",
     "output_type": "stream",
     "text": [
      "Get Full Name: 100%|███████████████████████████████████████████████████████████████████| 30/30 [00:01<00:00, 26.45it/s]\n",
      "Get Elo: 100%|█████████████████████████████████████████████████████████████████████████| 30/30 [00:00<00:00, 34.66it/s]\n",
      "Get Description: 100%|████████████████████████████████████████████████████████████████| 25/25 [00:00<00:00, 167.19it/s]\n"
     ]
    },
    {
     "name": "stdout",
     "output_type": "stream",
     "text": [
      "2019\n"
     ]
    },
    {
     "name": "stderr",
     "output_type": "stream",
     "text": [
      "Processing October: 100%|████████████████████████████████████████████████████████████| 110/110 [06:04<00:00,  3.31s/it]\n",
      "Processing November: 100%|███████████████████████████████████████████████████████████| 219/219 [15:23<00:00,  4.22s/it]\n",
      "Processing December: 100%|███████████████████████████████████████████████████████████| 219/219 [21:04<00:00,  5.77s/it]\n",
      "Processing January: 100%|████████████████████████████████████████████████████████████| 221/221 [22:14<00:00,  6.04s/it]\n",
      "Processing February: 100%|███████████████████████████████████████████████████████████| 158/158 [15:08<00:00,  5.75s/it]\n",
      "Processing March: 100%|██████████████████████████████████████████████████████████████| 224/224 [20:08<00:00,  5.40s/it]\n",
      "Processing April: 100%|██████████████████████████████████████████████████████████████| 127/127 [10:14<00:00,  4.84s/it]\n",
      "Processing May: 100%|██████████████████████████████████████████████████████████████████| 29/29 [01:16<00:00,  2.64s/it]\n",
      "Processing June: 100%|███████████████████████████████████████████████████████████████████| 5/5 [00:14<00:00,  2.85s/it]\n"
     ]
    }
   ],
   "source": [
    "main_url = 'https://www.basketball-reference.com'\n",
    "cur_year = 2021\n",
    "n = 3\n",
    "years = [cur_year - i for i in range(n - 1, -1, -1)]\n",
    "\n",
    "cols = []\n",
    "\n",
    "get_full_name()\n",
    "get_elo(years[0])\n",
    "get_old_stat(years[0])\n",
    "get_description(years[0])\n",
    "\n",
    "for year in years:\n",
    "    print(year)\n",
    "    year_url = f'/leagues/NBA_{year}_games.html'\n",
    "    urls, tree = get_html(main_url + year_url)\n",
    "\n",
    "    filter = tree.find('div', class_=['filter'])\n",
    "\n",
    "    for i, tag in enumerate(filter.find_all('a')):\n",
    "        if i: # first link same with main page // no need to get html\n",
    "            link = main_url + tag['href']\n",
    "            urls, tree = get_html(link)\n",
    "            \n",
    "        with tqdm(urls) as pbar:\n",
    "            pbar.set_description(\"Processing %s\" % tag.text)\n",
    "            for link in pbar:\n",
    "                if not cols:\n",
    "                    cols = get_info(link)\n",
    "                    df = pd.DataFrame(columns=cols)\n",
    "\n",
    "                df = df.append(pd.DataFrame([get_data(link)], columns=cols),\n",
    "                               ignore_index = True)\n",
    "\n",
    "    break"
   ]
  },
  {
   "cell_type": "code",
   "execution_count": 11,
   "id": "junior-secretariat",
   "metadata": {},
   "outputs": [
    {
     "data": {
      "text/plain": [
       "(1312, 43)"
      ]
     },
     "execution_count": 11,
     "metadata": {},
     "output_type": "execute_result"
    }
   ],
   "source": [
    "df.shape"
   ]
  },
  {
   "cell_type": "code",
   "execution_count": 12,
   "id": "decreased-wiring",
   "metadata": {},
   "outputs": [],
   "source": [
    "df = df.iloc[::-1] # reverse dataframe // from lastest -> oldest\n",
    "df.head()\n",
    "df.to_csv('raw_data.csv', index=False)"
   ]
  },
  {
   "cell_type": "markdown",
   "id": "aboriginal-boxing",
   "metadata": {},
   "source": [
    "$R_i$: Elo of a team in $i^{th}$ match\n",
    "\n",
    "$R_{i + 1} = k * (S_{team} - E_{team} + R_i)$\n",
    "\n",
    "$S_{team} = 1$: win || $0$: lose\n",
    "\n",
    "$E_{team} = \\frac{1}{1 + 10^{\\frac{oppElo - teamElo}{400}}}$\n",
    "\n",
    "$k = 20 \\frac{(MOV_{winner} + 3)^{0.8}}{7.5 + 0.006(\\text{Elo_diff}_{winner})}$\n",
    "\n",
    "$MOV_{winner} = winner_{score} - loser_{score}$\n",
    "\n",
    "$\\text{Elo_diff}_{winner} = winner_{elo} - loser_{elo}$"
   ]
  },
  {
   "cell_type": "code",
   "execution_count": 13,
   "id": "aware-meter",
   "metadata": {},
   "outputs": [],
   "source": [
    "def K(MOV, elo_diff):\n",
    "    f = 1 if MOV > 0 else -1 #factor\n",
    "\n",
    "    k = 20 * (f * MOV + 3) ** (0.8) / (7.5 + 0.006 * (f * elo_diff))\n",
    "\n",
    "    return k, -k # win: +elo, lose: -elo"
   ]
  },
  {
   "cell_type": "code",
   "execution_count": 14,
   "id": "upset-forestry",
   "metadata": {},
   "outputs": [],
   "source": [
    "def S(MOV):\n",
    "    S_home, S_away = 0, 0\n",
    "    if MOV > 0:\n",
    "        S_home = 1\n",
    "    elif MOV < 0:\n",
    "        S_away = 1\n",
    "    else:\n",
    "        S_home, S_away = .5, .5\n",
    "    return S_home, S_away"
   ]
  },
  {
   "cell_type": "code",
   "execution_count": 15,
   "id": "christian-dragon",
   "metadata": {},
   "outputs": [],
   "source": [
    "def elo_prediction(home_elo,away_elo):\n",
    "    E_home = 1./(1 + 10 ** ((away_elo - home_elo) / (400.)))\n",
    "    return E_home"
   ]
  },
  {
   "cell_type": "code",
   "execution_count": 16,
   "id": "indian-father",
   "metadata": {},
   "outputs": [],
   "source": [
    "def score_prediction(home_elo,away_elo):\n",
    "    return (home_elo - away_elo)/28."
   ]
  },
  {
   "cell_type": "code",
   "execution_count": 17,
   "id": "generous-moscow",
   "metadata": {},
   "outputs": [],
   "source": [
    "def elo_update(home_score, away_score, home_elo, away_elo):\n",
    "    home_advan = 100. #home advantage\n",
    "    home_elo += home_advan\n",
    "    E_home = elo_prediction(home_elo, away_elo)\n",
    "    E_away = 1 - E_home\n",
    "    elo_diff = home_elo - away_elo\n",
    "    MOV = home_score - away_score # margin of victory\n",
    "    \n",
    "    S_home, S_away = S(home_score,  away_score)\n",
    "    \n",
    "    K_home, K_away = K(MOV, elo_diff)\n",
    "        \n",
    "    return K_home * (S_home - E_home), K_away * (S_away - E_away)"
   ]
  }
 ],
 "metadata": {
  "kernelspec": {
   "display_name": "Python 3",
   "language": "python",
   "name": "python3"
  },
  "language_info": {
   "codemirror_mode": {
    "name": "ipython",
    "version": 3
   },
   "file_extension": ".py",
   "mimetype": "text/x-python",
   "name": "python",
   "nbconvert_exporter": "python",
   "pygments_lexer": "ipython3",
   "version": "3.7.8"
  }
 },
 "nbformat": 4,
 "nbformat_minor": 5
}
