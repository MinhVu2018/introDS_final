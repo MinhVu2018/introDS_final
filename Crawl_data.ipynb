{
 "cells": [
  {
   "cell_type": "code",
   "execution_count": 1,
   "id": "therapeutic-civilian",
   "metadata": {},
   "outputs": [],
   "source": [
    "import requests\n",
    "from bs4 import BeautifulSoup\n",
    "from selenium import webdriver\n",
    "import chromedriver_binary\n",
    "from selenium.webdriver.common.action_chains import ActionChains\n",
    "import time\n",
    "## 1. Parse HTML\n",
    "\n",
    "year = 2021\n",
    "main_url = 'https://www.basketball-reference.com'\n",
    "year_url = f'/leagues/NBA_{year}_games.html'\n",
    "\n",
    "\n",
    "opts = webdriver.ChromeOptions()\n",
    "opts.headless = True"
   ]
  },
  {
   "cell_type": "code",
   "execution_count": 2,
   "id": "improving-winner",
   "metadata": {},
   "outputs": [
    {
     "name": "stdout",
     "output_type": "stream",
     "text": [
      "['https://www.basketball-reference.com/boxscores/202012220BRK.html', 'https://www.basketball-reference.com/boxscores/202012220LAL.html', 'https://www.basketball-reference.com/boxscores/202012230CLE.html', 'https://www.basketball-reference.com/boxscores/202012230IND.html', 'https://www.basketball-reference.com/boxscores/202012230ORL.html', 'https://www.basketball-reference.com/boxscores/202012230PHI.html', 'https://www.basketball-reference.com/boxscores/202012230TOR.html', 'https://www.basketball-reference.com/boxscores/202012230BOS.html', 'https://www.basketball-reference.com/boxscores/202012230CHI.html', 'https://www.basketball-reference.com/boxscores/202012230MEM.html', 'https://www.basketball-reference.com/boxscores/202012230MIN.html', 'https://www.basketball-reference.com/boxscores/202012230DEN.html', 'https://www.basketball-reference.com/boxscores/202012230POR.html', 'https://www.basketball-reference.com/boxscores/202012230PHO.html', 'https://www.basketball-reference.com/boxscores/202012250MIA.html', 'https://www.basketball-reference.com/boxscores/202012250MIL.html', 'https://www.basketball-reference.com/boxscores/202012250BOS.html', 'https://www.basketball-reference.com/boxscores/202012250LAL.html', 'https://www.basketball-reference.com/boxscores/202012250DEN.html', 'https://www.basketball-reference.com/boxscores/202012260MEM.html', 'https://www.basketball-reference.com/boxscores/202012260CHO.html', 'https://www.basketball-reference.com/boxscores/202012260DET.html', 'https://www.basketball-reference.com/boxscores/202012260WAS.html', 'https://www.basketball-reference.com/boxscores/202012260NYK.html', 'https://www.basketball-reference.com/boxscores/202012260CHI.html', 'https://www.basketball-reference.com/boxscores/202012260SAS.html', 'https://www.basketball-reference.com/boxscores/202012260UTA.html', 'https://www.basketball-reference.com/boxscores/202012260POR.html', 'https://www.basketball-reference.com/boxscores/202012260SAC.html', 'https://www.basketball-reference.com/boxscores/202012270LAC.html', 'https://www.basketball-reference.com/boxscores/202012270NOP.html', 'https://www.basketball-reference.com/boxscores/202012270WAS.html', 'https://www.basketball-reference.com/boxscores/202012270CHO.html', 'https://www.basketball-reference.com/boxscores/202012270CLE.html', 'https://www.basketball-reference.com/boxscores/202012270NYK.html', 'https://www.basketball-reference.com/boxscores/202012270IND.html', 'https://www.basketball-reference.com/boxscores/202012270CHI.html', 'https://www.basketball-reference.com/boxscores/202012270SAC.html', 'https://www.basketball-reference.com/boxscores/202012270LAL.html', 'https://www.basketball-reference.com/boxscores/202012280BRK.html', 'https://www.basketball-reference.com/boxscores/202012280ATL.html', 'https://www.basketball-reference.com/boxscores/202012280OKC.html', 'https://www.basketball-reference.com/boxscores/202012280DEN.html', 'https://www.basketball-reference.com/boxscores/202012280LAL.html', 'https://www.basketball-reference.com/boxscores/202012290CLE.html', 'https://www.basketball-reference.com/boxscores/202012290DET.html', 'https://www.basketball-reference.com/boxscores/202012290IND.html', 'https://www.basketball-reference.com/boxscores/202012290WAS.html', 'https://www.basketball-reference.com/boxscores/202012290PHI.html', 'https://www.basketball-reference.com/boxscores/202012290MIA.html', 'https://www.basketball-reference.com/boxscores/202012290OKC.html', 'https://www.basketball-reference.com/boxscores/202012290PHO.html', 'https://www.basketball-reference.com/boxscores/202012290SAC.html', 'https://www.basketball-reference.com/boxscores/202012290LAC.html', 'https://www.basketball-reference.com/boxscores/202012300MIA.html', 'https://www.basketball-reference.com/boxscores/202012300BRK.html', 'https://www.basketball-reference.com/boxscores/202012300BOS.html', 'https://www.basketball-reference.com/boxscores/202012300DAL.html', 'https://www.basketball-reference.com/boxscores/202012300SAS.html', 'https://www.basketball-reference.com/boxscores/202012300LAC.html', 'https://www.basketball-reference.com/boxscores/202012310IND.html', 'https://www.basketball-reference.com/boxscores/202012310WAS.html', 'https://www.basketball-reference.com/boxscores/202012310ORL.html', 'https://www.basketball-reference.com/boxscores/202012310HOU.html', 'https://www.basketball-reference.com/boxscores/202012310TOR.html', 'https://www.basketball-reference.com/boxscores/202012310OKC.html', 'https://www.basketball-reference.com/boxscores/202012310UTA.html']\n"
     ]
    }
   ],
   "source": [
    "def get_html(url):\n",
    "    browser = webdriver.Chrome(options=opts) # Không có giao diện\n",
    "    browser.set_window_size(820, 1540)\n",
    "    browser.get(url)\n",
    "    \n",
    "    btns = browser.find_elements_by_xpath('//*[@data-stat=\"box_score_text\"]')[1:]\n",
    "    links = [b.find_elements_by_xpath('.//*')[0].get_attribute('href') for b in btns]\n",
    "    print(links)\n",
    "\n",
    "get_html(main_url + year_url)"
   ]
  },
  {
   "cell_type": "code",
   "execution_count": null,
   "id": "timely-jason",
   "metadata": {},
   "outputs": [],
   "source": []
  }
 ],
 "metadata": {
  "kernelspec": {
   "display_name": "Python 3",
   "language": "python",
   "name": "python3"
  },
  "language_info": {
   "codemirror_mode": {
    "name": "ipython",
    "version": 3
   },
   "file_extension": ".py",
   "mimetype": "text/x-python",
   "name": "python",
   "nbconvert_exporter": "python",
   "pygments_lexer": "ipython3",
   "version": "3.7.8"
  }
 },
 "nbformat": 4,
 "nbformat_minor": 5
}
